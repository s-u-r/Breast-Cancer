{
 "cells": [
  {
   "cell_type": "code",
   "execution_count": 1,
   "metadata": {},
   "outputs": [],
   "source": [
    "import pandas as pd\n",
    "import numpy as np"
   ]
  },
  {
   "cell_type": "code",
   "execution_count": 2,
   "metadata": {},
   "outputs": [],
   "source": [
    "pt1 = np.array([41,100])\n",
    "pt2 = np.array([52,100])"
   ]
  },
  {
   "cell_type": "code",
   "execution_count": 3,
   "metadata": {},
   "outputs": [],
   "source": [
    "from sklearn.model_selection import train_test_split"
   ]
  },
  {
   "cell_type": "code",
   "execution_count": 4,
   "metadata": {},
   "outputs": [],
   "source": [
    "from sklearn.neighbors import KNeighborsClassifier"
   ]
  },
  {
   "cell_type": "code",
   "execution_count": null,
   "metadata": {},
   "outputs": [],
   "source": []
  },
  {
   "cell_type": "code",
   "execution_count": null,
   "metadata": {},
   "outputs": [],
   "source": []
  },
  {
   "cell_type": "code",
   "execution_count": 5,
   "metadata": {},
   "outputs": [],
   "source": [
    "from bokeh.plotting import figure, show, gridplot, ColumnDataSource\n",
    "from bokeh.io import output_notebook\n",
    "from bokeh.models import Span, Label\n",
    "from bokeh.models import BoxAnnotation\n"
   ]
  },
  {
   "cell_type": "code",
   "execution_count": 6,
   "metadata": {},
   "outputs": [],
   "source": [
    "\n",
    "\n",
    "from bokeh.transform import linear_cmap\n",
    "from bokeh.util.hex import hexbin"
   ]
  },
  {
   "cell_type": "code",
   "execution_count": 7,
   "metadata": {},
   "outputs": [
    {
     "data": {
      "text/html": [
       "\n",
       "    <div class=\"bk-root\">\n",
       "        <a href=\"https://bokeh.pydata.org\" target=\"_blank\" class=\"bk-logo bk-logo-small bk-logo-notebook\"></a>\n",
       "        <span id=\"1001\">Loading BokehJS ...</span>\n",
       "    </div>"
      ]
     },
     "metadata": {},
     "output_type": "display_data"
    },
    {
     "data": {
      "application/javascript": [
       "\n",
       "(function(root) {\n",
       "  function now() {\n",
       "    return new Date();\n",
       "  }\n",
       "\n",
       "  var force = true;\n",
       "\n",
       "  if (typeof root._bokeh_onload_callbacks === \"undefined\" || force === true) {\n",
       "    root._bokeh_onload_callbacks = [];\n",
       "    root._bokeh_is_loading = undefined;\n",
       "  }\n",
       "\n",
       "  var JS_MIME_TYPE = 'application/javascript';\n",
       "  var HTML_MIME_TYPE = 'text/html';\n",
       "  var EXEC_MIME_TYPE = 'application/vnd.bokehjs_exec.v0+json';\n",
       "  var CLASS_NAME = 'output_bokeh rendered_html';\n",
       "\n",
       "  /**\n",
       "   * Render data to the DOM node\n",
       "   */\n",
       "  function render(props, node) {\n",
       "    var script = document.createElement(\"script\");\n",
       "    node.appendChild(script);\n",
       "  }\n",
       "\n",
       "  /**\n",
       "   * Handle when an output is cleared or removed\n",
       "   */\n",
       "  function handleClearOutput(event, handle) {\n",
       "    var cell = handle.cell;\n",
       "\n",
       "    var id = cell.output_area._bokeh_element_id;\n",
       "    var server_id = cell.output_area._bokeh_server_id;\n",
       "    // Clean up Bokeh references\n",
       "    if (id != null && id in Bokeh.index) {\n",
       "      Bokeh.index[id].model.document.clear();\n",
       "      delete Bokeh.index[id];\n",
       "    }\n",
       "\n",
       "    if (server_id !== undefined) {\n",
       "      // Clean up Bokeh references\n",
       "      var cmd = \"from bokeh.io.state import curstate; print(curstate().uuid_to_server['\" + server_id + \"'].get_sessions()[0].document.roots[0]._id)\";\n",
       "      cell.notebook.kernel.execute(cmd, {\n",
       "        iopub: {\n",
       "          output: function(msg) {\n",
       "            var id = msg.content.text.trim();\n",
       "            if (id in Bokeh.index) {\n",
       "              Bokeh.index[id].model.document.clear();\n",
       "              delete Bokeh.index[id];\n",
       "            }\n",
       "          }\n",
       "        }\n",
       "      });\n",
       "      // Destroy server and session\n",
       "      var cmd = \"import bokeh.io.notebook as ion; ion.destroy_server('\" + server_id + \"')\";\n",
       "      cell.notebook.kernel.execute(cmd);\n",
       "    }\n",
       "  }\n",
       "\n",
       "  /**\n",
       "   * Handle when a new output is added\n",
       "   */\n",
       "  function handleAddOutput(event, handle) {\n",
       "    var output_area = handle.output_area;\n",
       "    var output = handle.output;\n",
       "\n",
       "    // limit handleAddOutput to display_data with EXEC_MIME_TYPE content only\n",
       "    if ((output.output_type != \"display_data\") || (!output.data.hasOwnProperty(EXEC_MIME_TYPE))) {\n",
       "      return\n",
       "    }\n",
       "\n",
       "    var toinsert = output_area.element.find(\".\" + CLASS_NAME.split(' ')[0]);\n",
       "\n",
       "    if (output.metadata[EXEC_MIME_TYPE][\"id\"] !== undefined) {\n",
       "      toinsert[toinsert.length - 1].firstChild.textContent = output.data[JS_MIME_TYPE];\n",
       "      // store reference to embed id on output_area\n",
       "      output_area._bokeh_element_id = output.metadata[EXEC_MIME_TYPE][\"id\"];\n",
       "    }\n",
       "    if (output.metadata[EXEC_MIME_TYPE][\"server_id\"] !== undefined) {\n",
       "      var bk_div = document.createElement(\"div\");\n",
       "      bk_div.innerHTML = output.data[HTML_MIME_TYPE];\n",
       "      var script_attrs = bk_div.children[0].attributes;\n",
       "      for (var i = 0; i < script_attrs.length; i++) {\n",
       "        toinsert[toinsert.length - 1].firstChild.setAttribute(script_attrs[i].name, script_attrs[i].value);\n",
       "      }\n",
       "      // store reference to server id on output_area\n",
       "      output_area._bokeh_server_id = output.metadata[EXEC_MIME_TYPE][\"server_id\"];\n",
       "    }\n",
       "  }\n",
       "\n",
       "  function register_renderer(events, OutputArea) {\n",
       "\n",
       "    function append_mime(data, metadata, element) {\n",
       "      // create a DOM node to render to\n",
       "      var toinsert = this.create_output_subarea(\n",
       "        metadata,\n",
       "        CLASS_NAME,\n",
       "        EXEC_MIME_TYPE\n",
       "      );\n",
       "      this.keyboard_manager.register_events(toinsert);\n",
       "      // Render to node\n",
       "      var props = {data: data, metadata: metadata[EXEC_MIME_TYPE]};\n",
       "      render(props, toinsert[toinsert.length - 1]);\n",
       "      element.append(toinsert);\n",
       "      return toinsert\n",
       "    }\n",
       "\n",
       "    /* Handle when an output is cleared or removed */\n",
       "    events.on('clear_output.CodeCell', handleClearOutput);\n",
       "    events.on('delete.Cell', handleClearOutput);\n",
       "\n",
       "    /* Handle when a new output is added */\n",
       "    events.on('output_added.OutputArea', handleAddOutput);\n",
       "\n",
       "    /**\n",
       "     * Register the mime type and append_mime function with output_area\n",
       "     */\n",
       "    OutputArea.prototype.register_mime_type(EXEC_MIME_TYPE, append_mime, {\n",
       "      /* Is output safe? */\n",
       "      safe: true,\n",
       "      /* Index of renderer in `output_area.display_order` */\n",
       "      index: 0\n",
       "    });\n",
       "  }\n",
       "\n",
       "  // register the mime type if in Jupyter Notebook environment and previously unregistered\n",
       "  if (root.Jupyter !== undefined) {\n",
       "    var events = require('base/js/events');\n",
       "    var OutputArea = require('notebook/js/outputarea').OutputArea;\n",
       "\n",
       "    if (OutputArea.prototype.mime_types().indexOf(EXEC_MIME_TYPE) == -1) {\n",
       "      register_renderer(events, OutputArea);\n",
       "    }\n",
       "  }\n",
       "\n",
       "  \n",
       "  if (typeof (root._bokeh_timeout) === \"undefined\" || force === true) {\n",
       "    root._bokeh_timeout = Date.now() + 5000;\n",
       "    root._bokeh_failed_load = false;\n",
       "  }\n",
       "\n",
       "  var NB_LOAD_WARNING = {'data': {'text/html':\n",
       "     \"<div style='background-color: #fdd'>\\n\"+\n",
       "     \"<p>\\n\"+\n",
       "     \"BokehJS does not appear to have successfully loaded. If loading BokehJS from CDN, this \\n\"+\n",
       "     \"may be due to a slow or bad network connection. Possible fixes:\\n\"+\n",
       "     \"</p>\\n\"+\n",
       "     \"<ul>\\n\"+\n",
       "     \"<li>re-rerun `output_notebook()` to attempt to load from CDN again, or</li>\\n\"+\n",
       "     \"<li>use INLINE resources instead, as so:</li>\\n\"+\n",
       "     \"</ul>\\n\"+\n",
       "     \"<code>\\n\"+\n",
       "     \"from bokeh.resources import INLINE\\n\"+\n",
       "     \"output_notebook(resources=INLINE)\\n\"+\n",
       "     \"</code>\\n\"+\n",
       "     \"</div>\"}};\n",
       "\n",
       "  function display_loaded() {\n",
       "    var el = document.getElementById(\"1001\");\n",
       "    if (el != null) {\n",
       "      el.textContent = \"BokehJS is loading...\";\n",
       "    }\n",
       "    if (root.Bokeh !== undefined) {\n",
       "      if (el != null) {\n",
       "        el.textContent = \"BokehJS \" + root.Bokeh.version + \" successfully loaded.\";\n",
       "      }\n",
       "    } else if (Date.now() < root._bokeh_timeout) {\n",
       "      setTimeout(display_loaded, 100)\n",
       "    }\n",
       "  }\n",
       "\n",
       "\n",
       "  function run_callbacks() {\n",
       "    try {\n",
       "      root._bokeh_onload_callbacks.forEach(function(callback) {\n",
       "        if (callback != null)\n",
       "          callback();\n",
       "      });\n",
       "    } finally {\n",
       "      delete root._bokeh_onload_callbacks\n",
       "    }\n",
       "    console.debug(\"Bokeh: all callbacks have finished\");\n",
       "  }\n",
       "\n",
       "  function load_libs(css_urls, js_urls, callback) {\n",
       "    if (css_urls == null) css_urls = [];\n",
       "    if (js_urls == null) js_urls = [];\n",
       "\n",
       "    root._bokeh_onload_callbacks.push(callback);\n",
       "    if (root._bokeh_is_loading > 0) {\n",
       "      console.debug(\"Bokeh: BokehJS is being loaded, scheduling callback at\", now());\n",
       "      return null;\n",
       "    }\n",
       "    if (js_urls == null || js_urls.length === 0) {\n",
       "      run_callbacks();\n",
       "      return null;\n",
       "    }\n",
       "    console.debug(\"Bokeh: BokehJS not loaded, scheduling load and callback at\", now());\n",
       "    root._bokeh_is_loading = css_urls.length + js_urls.length;\n",
       "\n",
       "    function on_load() {\n",
       "      root._bokeh_is_loading--;\n",
       "      if (root._bokeh_is_loading === 0) {\n",
       "        console.debug(\"Bokeh: all BokehJS libraries/stylesheets loaded\");\n",
       "        run_callbacks()\n",
       "      }\n",
       "    }\n",
       "\n",
       "    function on_error() {\n",
       "      console.error(\"failed to load \" + url);\n",
       "    }\n",
       "\n",
       "    for (var i = 0; i < css_urls.length; i++) {\n",
       "      var url = css_urls[i];\n",
       "      const element = document.createElement(\"link\");\n",
       "      element.onload = on_load;\n",
       "      element.onerror = on_error;\n",
       "      element.rel = \"stylesheet\";\n",
       "      element.type = \"text/css\";\n",
       "      element.href = url;\n",
       "      console.debug(\"Bokeh: injecting link tag for BokehJS stylesheet: \", url);\n",
       "      document.body.appendChild(element);\n",
       "    }\n",
       "\n",
       "    for (var i = 0; i < js_urls.length; i++) {\n",
       "      var url = js_urls[i];\n",
       "      var element = document.createElement('script');\n",
       "      element.onload = on_load;\n",
       "      element.onerror = on_error;\n",
       "      element.async = false;\n",
       "      element.src = url;\n",
       "      console.debug(\"Bokeh: injecting script tag for BokehJS library: \", url);\n",
       "      document.head.appendChild(element);\n",
       "    }\n",
       "  };var element = document.getElementById(\"1001\");\n",
       "  if (element == null) {\n",
       "    console.error(\"Bokeh: ERROR: autoload.js configured with elementid '1001' but no matching script tag was found. \")\n",
       "    return false;\n",
       "  }\n",
       "\n",
       "  function inject_raw_css(css) {\n",
       "    const element = document.createElement(\"style\");\n",
       "    element.appendChild(document.createTextNode(css));\n",
       "    document.body.appendChild(element);\n",
       "  }\n",
       "\n",
       "  var js_urls = [\"https://cdn.pydata.org/bokeh/release/bokeh-1.3.4.min.js\", \"https://cdn.pydata.org/bokeh/release/bokeh-widgets-1.3.4.min.js\", \"https://cdn.pydata.org/bokeh/release/bokeh-tables-1.3.4.min.js\", \"https://cdn.pydata.org/bokeh/release/bokeh-gl-1.3.4.min.js\"];\n",
       "  var css_urls = [];\n",
       "\n",
       "  var inline_js = [\n",
       "    function(Bokeh) {\n",
       "      Bokeh.set_log_level(\"info\");\n",
       "    },\n",
       "    \n",
       "    function(Bokeh) {\n",
       "      \n",
       "    },\n",
       "    function(Bokeh) {} // ensure no trailing comma for IE\n",
       "  ];\n",
       "\n",
       "  function run_inline_js() {\n",
       "    \n",
       "    if ((root.Bokeh !== undefined) || (force === true)) {\n",
       "      for (var i = 0; i < inline_js.length; i++) {\n",
       "        inline_js[i].call(root, root.Bokeh);\n",
       "      }if (force === true) {\n",
       "        display_loaded();\n",
       "      }} else if (Date.now() < root._bokeh_timeout) {\n",
       "      setTimeout(run_inline_js, 100);\n",
       "    } else if (!root._bokeh_failed_load) {\n",
       "      console.log(\"Bokeh: BokehJS failed to load within specified timeout.\");\n",
       "      root._bokeh_failed_load = true;\n",
       "    } else if (force !== true) {\n",
       "      var cell = $(document.getElementById(\"1001\")).parents('.cell').data().cell;\n",
       "      cell.output_area.append_execute_result(NB_LOAD_WARNING)\n",
       "    }\n",
       "\n",
       "  }\n",
       "\n",
       "  if (root._bokeh_is_loading === 0) {\n",
       "    console.debug(\"Bokeh: BokehJS loaded, going straight to plotting\");\n",
       "    run_inline_js();\n",
       "  } else {\n",
       "    load_libs(css_urls, js_urls, function() {\n",
       "      console.debug(\"Bokeh: BokehJS plotting callback run at\", now());\n",
       "      run_inline_js();\n",
       "    });\n",
       "  }\n",
       "}(window));"
      ],
      "application/vnd.bokehjs_load.v0+json": "\n(function(root) {\n  function now() {\n    return new Date();\n  }\n\n  var force = true;\n\n  if (typeof root._bokeh_onload_callbacks === \"undefined\" || force === true) {\n    root._bokeh_onload_callbacks = [];\n    root._bokeh_is_loading = undefined;\n  }\n\n  \n\n  \n  if (typeof (root._bokeh_timeout) === \"undefined\" || force === true) {\n    root._bokeh_timeout = Date.now() + 5000;\n    root._bokeh_failed_load = false;\n  }\n\n  var NB_LOAD_WARNING = {'data': {'text/html':\n     \"<div style='background-color: #fdd'>\\n\"+\n     \"<p>\\n\"+\n     \"BokehJS does not appear to have successfully loaded. If loading BokehJS from CDN, this \\n\"+\n     \"may be due to a slow or bad network connection. Possible fixes:\\n\"+\n     \"</p>\\n\"+\n     \"<ul>\\n\"+\n     \"<li>re-rerun `output_notebook()` to attempt to load from CDN again, or</li>\\n\"+\n     \"<li>use INLINE resources instead, as so:</li>\\n\"+\n     \"</ul>\\n\"+\n     \"<code>\\n\"+\n     \"from bokeh.resources import INLINE\\n\"+\n     \"output_notebook(resources=INLINE)\\n\"+\n     \"</code>\\n\"+\n     \"</div>\"}};\n\n  function display_loaded() {\n    var el = document.getElementById(\"1001\");\n    if (el != null) {\n      el.textContent = \"BokehJS is loading...\";\n    }\n    if (root.Bokeh !== undefined) {\n      if (el != null) {\n        el.textContent = \"BokehJS \" + root.Bokeh.version + \" successfully loaded.\";\n      }\n    } else if (Date.now() < root._bokeh_timeout) {\n      setTimeout(display_loaded, 100)\n    }\n  }\n\n\n  function run_callbacks() {\n    try {\n      root._bokeh_onload_callbacks.forEach(function(callback) {\n        if (callback != null)\n          callback();\n      });\n    } finally {\n      delete root._bokeh_onload_callbacks\n    }\n    console.debug(\"Bokeh: all callbacks have finished\");\n  }\n\n  function load_libs(css_urls, js_urls, callback) {\n    if (css_urls == null) css_urls = [];\n    if (js_urls == null) js_urls = [];\n\n    root._bokeh_onload_callbacks.push(callback);\n    if (root._bokeh_is_loading > 0) {\n      console.debug(\"Bokeh: BokehJS is being loaded, scheduling callback at\", now());\n      return null;\n    }\n    if (js_urls == null || js_urls.length === 0) {\n      run_callbacks();\n      return null;\n    }\n    console.debug(\"Bokeh: BokehJS not loaded, scheduling load and callback at\", now());\n    root._bokeh_is_loading = css_urls.length + js_urls.length;\n\n    function on_load() {\n      root._bokeh_is_loading--;\n      if (root._bokeh_is_loading === 0) {\n        console.debug(\"Bokeh: all BokehJS libraries/stylesheets loaded\");\n        run_callbacks()\n      }\n    }\n\n    function on_error() {\n      console.error(\"failed to load \" + url);\n    }\n\n    for (var i = 0; i < css_urls.length; i++) {\n      var url = css_urls[i];\n      const element = document.createElement(\"link\");\n      element.onload = on_load;\n      element.onerror = on_error;\n      element.rel = \"stylesheet\";\n      element.type = \"text/css\";\n      element.href = url;\n      console.debug(\"Bokeh: injecting link tag for BokehJS stylesheet: \", url);\n      document.body.appendChild(element);\n    }\n\n    for (var i = 0; i < js_urls.length; i++) {\n      var url = js_urls[i];\n      var element = document.createElement('script');\n      element.onload = on_load;\n      element.onerror = on_error;\n      element.async = false;\n      element.src = url;\n      console.debug(\"Bokeh: injecting script tag for BokehJS library: \", url);\n      document.head.appendChild(element);\n    }\n  };var element = document.getElementById(\"1001\");\n  if (element == null) {\n    console.error(\"Bokeh: ERROR: autoload.js configured with elementid '1001' but no matching script tag was found. \")\n    return false;\n  }\n\n  function inject_raw_css(css) {\n    const element = document.createElement(\"style\");\n    element.appendChild(document.createTextNode(css));\n    document.body.appendChild(element);\n  }\n\n  var js_urls = [\"https://cdn.pydata.org/bokeh/release/bokeh-1.3.4.min.js\", \"https://cdn.pydata.org/bokeh/release/bokeh-widgets-1.3.4.min.js\", \"https://cdn.pydata.org/bokeh/release/bokeh-tables-1.3.4.min.js\", \"https://cdn.pydata.org/bokeh/release/bokeh-gl-1.3.4.min.js\"];\n  var css_urls = [];\n\n  var inline_js = [\n    function(Bokeh) {\n      Bokeh.set_log_level(\"info\");\n    },\n    \n    function(Bokeh) {\n      \n    },\n    function(Bokeh) {} // ensure no trailing comma for IE\n  ];\n\n  function run_inline_js() {\n    \n    if ((root.Bokeh !== undefined) || (force === true)) {\n      for (var i = 0; i < inline_js.length; i++) {\n        inline_js[i].call(root, root.Bokeh);\n      }if (force === true) {\n        display_loaded();\n      }} else if (Date.now() < root._bokeh_timeout) {\n      setTimeout(run_inline_js, 100);\n    } else if (!root._bokeh_failed_load) {\n      console.log(\"Bokeh: BokehJS failed to load within specified timeout.\");\n      root._bokeh_failed_load = true;\n    } else if (force !== true) {\n      var cell = $(document.getElementById(\"1001\")).parents('.cell').data().cell;\n      cell.output_area.append_execute_result(NB_LOAD_WARNING)\n    }\n\n  }\n\n  if (root._bokeh_is_loading === 0) {\n    console.debug(\"Bokeh: BokehJS loaded, going straight to plotting\");\n    run_inline_js();\n  } else {\n    load_libs(css_urls, js_urls, function() {\n      console.debug(\"Bokeh: BokehJS plotting callback run at\", now());\n      run_inline_js();\n    });\n  }\n}(window));"
     },
     "metadata": {},
     "output_type": "display_data"
    }
   ],
   "source": [
    "output_notebook()"
   ]
  },
  {
   "cell_type": "code",
   "execution_count": 8,
   "metadata": {},
   "outputs": [],
   "source": [
    "df_bC = pd.read_csv('breast-cancer.csv')"
   ]
  },
  {
   "cell_type": "code",
   "execution_count": 9,
   "metadata": {},
   "outputs": [],
   "source": [
    "df_bC = df_bC.drop(['ID'], axis = 1)"
   ]
  },
  {
   "cell_type": "code",
   "execution_count": 10,
   "metadata": {},
   "outputs": [
    {
     "data": {
      "text/html": [
       "<div>\n",
       "<style scoped>\n",
       "    .dataframe tbody tr th:only-of-type {\n",
       "        vertical-align: middle;\n",
       "    }\n",
       "\n",
       "    .dataframe tbody tr th {\n",
       "        vertical-align: top;\n",
       "    }\n",
       "\n",
       "    .dataframe thead th {\n",
       "        text-align: right;\n",
       "    }\n",
       "</style>\n",
       "<table border=\"1\" class=\"dataframe\">\n",
       "  <thead>\n",
       "    <tr style=\"text-align: right;\">\n",
       "      <th></th>\n",
       "      <th>Clump Thickness</th>\n",
       "      <th>Uniformity of Cell Size</th>\n",
       "      <th>Uniformity of Cell Shape</th>\n",
       "      <th>Marginal Adhesion</th>\n",
       "      <th>Single Epithelial Cell Size</th>\n",
       "      <th>Bare Nuclei</th>\n",
       "      <th>Bland Chromatin</th>\n",
       "      <th>Normal Nucleoli</th>\n",
       "      <th>Mitoses</th>\n",
       "      <th>Class</th>\n",
       "    </tr>\n",
       "  </thead>\n",
       "  <tbody>\n",
       "    <tr>\n",
       "      <th>0</th>\n",
       "      <td>5</td>\n",
       "      <td>1</td>\n",
       "      <td>1</td>\n",
       "      <td>1</td>\n",
       "      <td>2</td>\n",
       "      <td>1</td>\n",
       "      <td>3</td>\n",
       "      <td>1</td>\n",
       "      <td>1</td>\n",
       "      <td>0</td>\n",
       "    </tr>\n",
       "    <tr>\n",
       "      <th>1</th>\n",
       "      <td>5</td>\n",
       "      <td>4</td>\n",
       "      <td>4</td>\n",
       "      <td>5</td>\n",
       "      <td>7</td>\n",
       "      <td>10</td>\n",
       "      <td>3</td>\n",
       "      <td>2</td>\n",
       "      <td>1</td>\n",
       "      <td>0</td>\n",
       "    </tr>\n",
       "    <tr>\n",
       "      <th>2</th>\n",
       "      <td>3</td>\n",
       "      <td>1</td>\n",
       "      <td>1</td>\n",
       "      <td>1</td>\n",
       "      <td>2</td>\n",
       "      <td>2</td>\n",
       "      <td>3</td>\n",
       "      <td>1</td>\n",
       "      <td>1</td>\n",
       "      <td>0</td>\n",
       "    </tr>\n",
       "    <tr>\n",
       "      <th>3</th>\n",
       "      <td>6</td>\n",
       "      <td>8</td>\n",
       "      <td>8</td>\n",
       "      <td>1</td>\n",
       "      <td>3</td>\n",
       "      <td>4</td>\n",
       "      <td>3</td>\n",
       "      <td>7</td>\n",
       "      <td>1</td>\n",
       "      <td>0</td>\n",
       "    </tr>\n",
       "    <tr>\n",
       "      <th>4</th>\n",
       "      <td>4</td>\n",
       "      <td>1</td>\n",
       "      <td>1</td>\n",
       "      <td>3</td>\n",
       "      <td>2</td>\n",
       "      <td>1</td>\n",
       "      <td>3</td>\n",
       "      <td>1</td>\n",
       "      <td>1</td>\n",
       "      <td>0</td>\n",
       "    </tr>\n",
       "  </tbody>\n",
       "</table>\n",
       "</div>"
      ],
      "text/plain": [
       "   Clump Thickness  Uniformity of Cell Size  Uniformity of Cell Shape  \\\n",
       "0                5                        1                         1   \n",
       "1                5                        4                         4   \n",
       "2                3                        1                         1   \n",
       "3                6                        8                         8   \n",
       "4                4                        1                         1   \n",
       "\n",
       "   Marginal Adhesion  Single Epithelial Cell Size  Bare Nuclei  \\\n",
       "0                  1                            2            1   \n",
       "1                  5                            7           10   \n",
       "2                  1                            2            2   \n",
       "3                  1                            3            4   \n",
       "4                  3                            2            1   \n",
       "\n",
       "   Bland Chromatin  Normal Nucleoli  Mitoses  Class  \n",
       "0                3                1        1      0  \n",
       "1                3                2        1      0  \n",
       "2                3                1        1      0  \n",
       "3                3                7        1      0  \n",
       "4                3                1        1      0  "
      ]
     },
     "execution_count": 10,
     "metadata": {},
     "output_type": "execute_result"
    }
   ],
   "source": [
    "df_bC.head()"
   ]
  },
  {
   "cell_type": "code",
   "execution_count": 11,
   "metadata": {},
   "outputs": [],
   "source": [
    "#'Bland Chromatin', 'Single Epithelial Cell Size'"
   ]
  },
  {
   "cell_type": "code",
   "execution_count": 12,
   "metadata": {},
   "outputs": [],
   "source": [
    "class1 = df_bC.query('Class == 1')"
   ]
  },
  {
   "cell_type": "code",
   "execution_count": 13,
   "metadata": {},
   "outputs": [],
   "source": [
    "class0 = df_bC.query('Class == 0')"
   ]
  },
  {
   "cell_type": "code",
   "execution_count": 14,
   "metadata": {},
   "outputs": [
    {
     "data": {
      "text/html": [
       "\n",
       "\n",
       "\n",
       "\n",
       "\n",
       "\n",
       "  <div class=\"bk-root\" id=\"eec55a23-463c-4afc-ae69-8b33766ac666\" data-root-id=\"1002\"></div>\n"
      ]
     },
     "metadata": {},
     "output_type": "display_data"
    },
    {
     "data": {
      "application/javascript": [
       "(function(root) {\n",
       "  function embed_document(root) {\n",
       "    \n",
       "  var docs_json = {\"294a38b6-ac9e-4f99-9071-bab55c351813\":{\"roots\":{\"references\":[{\"attributes\":{\"below\":[{\"id\":\"1013\",\"type\":\"LinearAxis\"}],\"center\":[{\"id\":\"1017\",\"type\":\"Grid\"},{\"id\":\"1022\",\"type\":\"Grid\"},{\"id\":\"1048\",\"type\":\"Legend\"}],\"left\":[{\"id\":\"1018\",\"type\":\"LinearAxis\"}],\"plot_height\":500,\"plot_width\":500,\"renderers\":[{\"id\":\"1040\",\"type\":\"GlyphRenderer\"},{\"id\":\"1054\",\"type\":\"GlyphRenderer\"}],\"title\":{\"id\":\"1003\",\"type\":\"Title\"},\"toolbar\":{\"id\":\"1029\",\"type\":\"Toolbar\"},\"x_range\":{\"id\":\"1005\",\"type\":\"DataRange1d\"},\"x_scale\":{\"id\":\"1009\",\"type\":\"LinearScale\"},\"y_range\":{\"id\":\"1007\",\"type\":\"DataRange1d\"},\"y_scale\":{\"id\":\"1011\",\"type\":\"LinearScale\"}},\"id\":\"1002\",\"subtype\":\"Figure\",\"type\":\"Plot\"},{\"attributes\":{},\"id\":\"1028\",\"type\":\"HelpTool\"},{\"attributes\":{},\"id\":\"1011\",\"type\":\"LinearScale\"},{\"attributes\":{\"fill_alpha\":{\"value\":0.2},\"fill_color\":{\"value\":\"green\"},\"line_alpha\":{\"value\":0.2},\"line_color\":{\"value\":\"green\"},\"size\":{\"units\":\"screen\",\"value\":17},\"x\":{\"field\":\"x\"},\"y\":{\"field\":\"y\"}},\"id\":\"1051\",\"type\":\"Circle\"},{\"attributes\":{\"overlay\":{\"id\":\"1047\",\"type\":\"BoxAnnotation\"}},\"id\":\"1025\",\"type\":\"BoxZoomTool\"},{\"attributes\":{\"callback\":null,\"data\":{\"x\":[3,3,3,3,3,3,3,1,2,3,2,3,2,3,3,2,3,2,2,2,1,2,3,3,2,2,7,2,2,3,2,2,3,3,2,7,4,2,2,3,2,7,2,3,7,3,2,3,1,3,2,3,3,1,3,3,2,5,3,1,3,1,3,3,3,2,3,1,2,3,2,2,3,2,1,2,1,1,1,2,2,5,3,1,1,2,3,3,3,1,3,3,1,1,3,2,3,3,3,1,3,3,3,2,3,3,3,7,3,1,2,3,3,3,3,3,3,3,2,3,3,3,2,3,4,3,2,3,3,5,3,3,3,1,3,1,2,3,3,3,3,3,3,2,2,3,3,3,2,1,3,4,1,3,3,3,3,5,2,1,1,2,3,7,3,3,2,2,3,2,1,3,2,3,1,1,1,1,1,1,3,4,2,2,2,2,3,2,1,2,2,1,2,2,2,1,2,2,2,3,1,3,1,1,1,3,2,2,2,2,1,2,2,3,1,2,1,1,2,1,1,2,2,2,3,2,2,3,3,2,3,1,3,3,2,1,1,2,2,2,3,2,1,4,1,1,1,1,1,1,2,1,1,1,1,2,1,1,1,1,1,1,1,1,1,1,1,2,2,1,1,1,1,1,1,1,1,1,1,1,1,2,1,2,2,2,1,1,2,2,3,2,2,3,1,1,1,1,1,1,2,1,2,1,2,1,1,1,2,1,1,3,1,2,2,3,2,2,3,3,3,2,2,2,1,1,2,2,2,1,1,2,3,4,2,1,4,2,1,2,2,3,3,3,2,3,3,2,2,2,3,2,2,2,3,2,1,1,1,2,1,1,2,2,3,2,1,2,2,2,1,1,1,2,2,2,2,2,2,2,6,2,1,2,1,1,1,1,1,2,1,1,1,2,1,1,1,2,2,1,1,2,1,1,2,1,2,2,2,3,2,2,3,1,2,3,2,2,2,1,1,3,3,3,1,2,1,2,1,1,1,3,1,1,1,1,2,1,1,1,1,2,1,1],\"y\":[2,7,2,3,2,2,2,2,2,1,2,2,2,2,2,2,2,1,2,2,2,1,2,2,2,2,1,2,2,2,2,2,2,2,2,2,2,2,2,2,3,1,2,2,2,2,3,2,2,2,2,2,2,2,2,2,2,2,2,2,2,4,2,2,2,2,2,10,2,2,2,3,2,2,2,2,2,2,2,2,3,8,1,2,2,2,2,2,2,1,2,2,1,2,2,2,2,2,1,2,2,1,2,2,2,2,2,4,2,2,2,2,2,2,1,1,1,2,2,2,2,2,2,1,3,3,2,1,2,2,2,2,2,2,3,2,2,2,5,2,2,2,2,2,2,2,2,2,3,2,2,4,5,2,2,2,2,2,3,2,2,1,5,6,2,2,2,2,2,2,2,2,1,2,2,2,2,3,1,2,2,7,2,3,4,2,2,2,2,1,3,2,2,2,2,2,2,1,3,4,2,2,2,2,3,3,2,3,2,2,1,2,2,2,2,2,2,2,2,2,2,2,2,2,2,2,2,2,3,2,2,5,2,2,2,2,2,2,2,2,4,2,2,5,2,2,2,2,2,2,3,2,2,2,1,1,2,2,3,2,2,2,2,2,2,2,2,2,1,2,1,2,2,2,2,2,2,1,2,2,1,1,2,1,4,1,1,2,2,2,2,2,2,2,2,2,2,2,2,2,2,2,1,1,1,2,3,3,2,2,2,2,2,1,2,1,2,2,2,2,2,2,2,2,2,2,2,2,2,1,1,2,2,2,2,2,2,1,2,2,2,2,2,2,2,2,2,2,2,2,2,2,2,2,2,2,2,3,2,2,2,2,2,2,2,2,1,2,1,2,2,2,2,2,1,2,2,2,2,2,3,2,2,1,3,2,2,2,2,2,2,2,2,2,2,2,2,2,2,2,2,2,2,2,2,3,2,2,2,2,2,2,8,2,2,2,2,2,2,2,2,2,2,2,3,2,2,2,2,2,2,2,2,2,2,2,2,2,2,2,2,2,3,2]},\"selected\":{\"id\":\"1073\",\"type\":\"Selection\"},\"selection_policy\":{\"id\":\"1074\",\"type\":\"UnionRenderers\"}},\"id\":\"1050\",\"type\":\"ColumnDataSource\"},{\"attributes\":{\"text\":\"Old Faithful Eruptions with Seperate Regression Lines\"},\"id\":\"1003\",\"type\":\"Title\"},{\"attributes\":{\"callback\":null},\"id\":\"1007\",\"type\":\"DataRange1d\"},{\"attributes\":{\"fill_alpha\":{\"value\":0.1},\"fill_color\":{\"value\":\"#1f77b4\"},\"line_alpha\":{\"value\":0.1},\"line_color\":{\"value\":\"#1f77b4\"},\"size\":{\"units\":\"screen\",\"value\":17},\"x\":{\"field\":\"x\"},\"y\":{\"field\":\"y\"}},\"id\":\"1052\",\"type\":\"Circle\"},{\"attributes\":{},\"id\":\"1014\",\"type\":\"BasicTicker\"},{\"attributes\":{\"active_drag\":\"auto\",\"active_inspect\":\"auto\",\"active_multi\":null,\"active_scroll\":\"auto\",\"active_tap\":\"auto\",\"tools\":[{\"id\":\"1023\",\"type\":\"PanTool\"},{\"id\":\"1024\",\"type\":\"WheelZoomTool\"},{\"id\":\"1025\",\"type\":\"BoxZoomTool\"},{\"id\":\"1026\",\"type\":\"SaveTool\"},{\"id\":\"1027\",\"type\":\"ResetTool\"},{\"id\":\"1028\",\"type\":\"HelpTool\"}]},\"id\":\"1029\",\"type\":\"Toolbar\"},{\"attributes\":{\"fill_alpha\":{\"value\":0.2},\"fill_color\":{\"value\":\"grey\"},\"line_alpha\":{\"value\":0.2},\"line_color\":{\"value\":\"grey\"},\"size\":{\"units\":\"screen\",\"value\":17},\"x\":{\"field\":\"x\"},\"y\":{\"field\":\"y\"}},\"id\":\"1053\",\"type\":\"Circle\"},{\"attributes\":{},\"id\":\"1027\",\"type\":\"ResetTool\"},{\"attributes\":{\"fill_alpha\":{\"value\":0.1},\"fill_color\":{\"value\":\"#1f77b4\"},\"line_alpha\":{\"value\":0.1},\"line_color\":{\"value\":\"#1f77b4\"},\"size\":{\"units\":\"screen\",\"value\":17},\"x\":{\"field\":\"x\"},\"y\":{\"field\":\"y\"}},\"id\":\"1038\",\"type\":\"Circle\"},{\"attributes\":{\"data_source\":{\"id\":\"1050\",\"type\":\"ColumnDataSource\"},\"glyph\":{\"id\":\"1051\",\"type\":\"Circle\"},\"hover_glyph\":null,\"muted_glyph\":{\"id\":\"1053\",\"type\":\"Circle\"},\"nonselection_glyph\":{\"id\":\"1052\",\"type\":\"Circle\"},\"selection_glyph\":null,\"view\":{\"id\":\"1055\",\"type\":\"CDSView\"}},\"id\":\"1054\",\"type\":\"GlyphRenderer\"},{\"attributes\":{},\"id\":\"1009\",\"type\":\"LinearScale\"},{\"attributes\":{\"dimension\":1,\"ticker\":{\"id\":\"1019\",\"type\":\"BasicTicker\"}},\"id\":\"1022\",\"type\":\"Grid\"},{\"attributes\":{},\"id\":\"1063\",\"type\":\"UnionRenderers\"},{\"attributes\":{\"data_source\":{\"id\":\"1036\",\"type\":\"ColumnDataSource\"},\"glyph\":{\"id\":\"1037\",\"type\":\"Circle\"},\"hover_glyph\":null,\"muted_glyph\":{\"id\":\"1039\",\"type\":\"Circle\"},\"nonselection_glyph\":{\"id\":\"1038\",\"type\":\"Circle\"},\"selection_glyph\":null,\"view\":{\"id\":\"1041\",\"type\":\"CDSView\"}},\"id\":\"1040\",\"type\":\"GlyphRenderer\"},{\"attributes\":{},\"id\":\"1062\",\"type\":\"Selection\"},{\"attributes\":{\"callback\":null},\"id\":\"1005\",\"type\":\"DataRange1d\"},{\"attributes\":{\"source\":{\"id\":\"1050\",\"type\":\"ColumnDataSource\"}},\"id\":\"1055\",\"type\":\"CDSView\"},{\"attributes\":{},\"id\":\"1023\",\"type\":\"PanTool\"},{\"attributes\":{\"fill_alpha\":{\"value\":0.2},\"fill_color\":{\"value\":\"grey\"},\"line_alpha\":{\"value\":0.2},\"line_color\":{\"value\":\"grey\"},\"size\":{\"units\":\"screen\",\"value\":17},\"x\":{\"field\":\"x\"},\"y\":{\"field\":\"y\"}},\"id\":\"1039\",\"type\":\"Circle\"},{\"attributes\":{\"axis_label\":\"Bland Chromatin\",\"formatter\":{\"id\":\"1043\",\"type\":\"BasicTickFormatter\"},\"ticker\":{\"id\":\"1014\",\"type\":\"BasicTicker\"}},\"id\":\"1013\",\"type\":\"LinearAxis\"},{\"attributes\":{\"fill_alpha\":{\"value\":0.2},\"fill_color\":{\"value\":\"red\"},\"line_alpha\":{\"value\":0.2},\"line_color\":{\"value\":\"red\"},\"size\":{\"units\":\"screen\",\"value\":17},\"x\":{\"field\":\"x\"},\"y\":{\"field\":\"y\"}},\"id\":\"1037\",\"type\":\"Circle\"},{\"attributes\":{\"label\":{\"value\":\"Class 1\"},\"renderers\":[{\"id\":\"1040\",\"type\":\"GlyphRenderer\"}]},\"id\":\"1049\",\"type\":\"LegendItem\"},{\"attributes\":{\"ticker\":{\"id\":\"1014\",\"type\":\"BasicTicker\"}},\"id\":\"1017\",\"type\":\"Grid\"},{\"attributes\":{\"source\":{\"id\":\"1036\",\"type\":\"ColumnDataSource\"}},\"id\":\"1041\",\"type\":\"CDSView\"},{\"attributes\":{\"label\":{\"value\":\"Class 0\"},\"renderers\":[{\"id\":\"1054\",\"type\":\"GlyphRenderer\"}]},\"id\":\"1064\",\"type\":\"LegendItem\"},{\"attributes\":{},\"id\":\"1043\",\"type\":\"BasicTickFormatter\"},{\"attributes\":{},\"id\":\"1074\",\"type\":\"UnionRenderers\"},{\"attributes\":{},\"id\":\"1026\",\"type\":\"SaveTool\"},{\"attributes\":{\"callback\":null,\"data\":{\"x\":[9,4,5,4,4,5,7,3,7,8,5,7,6,7,3,8,4,3,2,3,4,7,7,3,3,5,5,5,4,3,3,4,4,8,7,4,3,7,4,4,6,2,7,3,2,7,8,3,4,5,7,3,7,8,7,5,5,8,7,1,3,4,4,7,5,8,3,7,5,3,3,10,6,5,5,3,7,5,7,7,9,7,4,7,8,7,3,8,7,7,10,5,8,9,2,7,7,8,7,9,7,8,4,4,4,3,5,7,3,5,7,3,3,5,10,7,5,5,4,7,8,3,7,3,3,5,5,3,10,4,5,4,2,7,7,7,7,3,3,8,3,4,8,7,4,5,3,7,6,4,3,3,4,7,9,3,7,4,3,7,4,3,8,5,7,8,7,7,7,9,8,6,7,8,10,5,5,2,10,8,10,1,8,10,7,9,7,7,10,9,8,3,4,7,6,4,8,9,9,7,5,6,7,7,10,2,10,8,9,7,7,6,10,4,10,7,4,7,8,8,7,10,7,8,10,7,5,10,10,7,7,7,7,10,5,4,8,10,10],\"y\":[7,2,7,6,4,5,6,2,8,6,2,6,3,8,10,8,4,4,2,2,3,10,8,4,3,5,6,2,3,10,5,3,8,4,10,6,3,8,10,5,5,10,5,10,2,6,10,3,2,8,3,5,2,10,4,10,8,9,4,5,8,4,6,10,6,4,3,6,5,8,6,8,3,10,8,6,5,4,5,6,5,6,10,5,10,6,7,5,4,7,3,5,6,10,1,3,3,4,3,10,3,6,5,8,6,6,3,5,2,2,8,10,4,3,10,5,6,10,3,3,3,3,3,3,3,4,2,2,8,10,4,6,2,6,4,4,9,3,4,4,10,5,6,5,2,2,6,5,2,4,3,4,2,2,10,5,3,7,3,10,8,3,10,6,8,5,4,2,3,6,8,3,10,10,10,4,3,6,4,6,6,2,5,6,6,4,4,4,10,5,6,3,3,3,6,7,3,3,4,3,4,4,4,4,5,6,6,8,3,4,5,4,6,6,4,4,3,4,4,5,5,10,3,5,6,7,5,7,10,3,6,5,5,5,4,4,7,3,4]},\"selected\":{\"id\":\"1062\",\"type\":\"Selection\"},\"selection_policy\":{\"id\":\"1063\",\"type\":\"UnionRenderers\"}},\"id\":\"1036\",\"type\":\"ColumnDataSource\"},{\"attributes\":{},\"id\":\"1045\",\"type\":\"BasicTickFormatter\"},{\"attributes\":{},\"id\":\"1019\",\"type\":\"BasicTicker\"},{\"attributes\":{\"bottom_units\":\"screen\",\"fill_alpha\":{\"value\":0.5},\"fill_color\":{\"value\":\"lightgrey\"},\"left_units\":\"screen\",\"level\":\"overlay\",\"line_alpha\":{\"value\":1.0},\"line_color\":{\"value\":\"black\"},\"line_dash\":[4,4],\"line_width\":{\"value\":2},\"render_mode\":\"css\",\"right_units\":\"screen\",\"top_units\":\"screen\"},\"id\":\"1047\",\"type\":\"BoxAnnotation\"},{\"attributes\":{},\"id\":\"1024\",\"type\":\"WheelZoomTool\"},{\"attributes\":{\"items\":[{\"id\":\"1049\",\"type\":\"LegendItem\"},{\"id\":\"1064\",\"type\":\"LegendItem\"}],\"location\":\"top_left\"},\"id\":\"1048\",\"type\":\"Legend\"},{\"attributes\":{},\"id\":\"1073\",\"type\":\"Selection\"},{\"attributes\":{\"axis_label\":\"Single Epithelial Cell Size\",\"formatter\":{\"id\":\"1045\",\"type\":\"BasicTickFormatter\"},\"ticker\":{\"id\":\"1019\",\"type\":\"BasicTicker\"}},\"id\":\"1018\",\"type\":\"LinearAxis\"}],\"root_ids\":[\"1002\"]},\"title\":\"Bokeh Application\",\"version\":\"1.3.4\"}};\n",
       "  var render_items = [{\"docid\":\"294a38b6-ac9e-4f99-9071-bab55c351813\",\"roots\":{\"1002\":\"eec55a23-463c-4afc-ae69-8b33766ac666\"}}];\n",
       "  root.Bokeh.embed.embed_items_notebook(docs_json, render_items);\n",
       "\n",
       "  }\n",
       "  if (root.Bokeh !== undefined) {\n",
       "    embed_document(root);\n",
       "  } else {\n",
       "    var attempts = 0;\n",
       "    var timer = setInterval(function(root) {\n",
       "      if (root.Bokeh !== undefined) {\n",
       "        embed_document(root);\n",
       "        clearInterval(timer);\n",
       "      }\n",
       "      attempts++;\n",
       "      if (attempts > 100) {\n",
       "        console.log(\"Bokeh: ERROR: Unable to run BokehJS code because BokehJS library is missing\");\n",
       "        clearInterval(timer);\n",
       "      }\n",
       "    }, 10, root)\n",
       "  }\n",
       "})(window);"
      ],
      "application/vnd.bokehjs_exec.v0+json": ""
     },
     "metadata": {
      "application/vnd.bokehjs_exec.v0+json": {
       "id": "1002"
      }
     },
     "output_type": "display_data"
    }
   ],
   "source": [
    "\n",
    "p1 = figure(title = '', plot_width=500, plot_height=500)\n",
    "# add a circle renderer with a size, color, and alpha\n",
    "p1.circle(class1['Bland Chromatin'], class1['Single Epithelial Cell Size'],  size=17,\n",
    " color=\"red\", alpha=0.2, legend = 'Class 1', muted_color='grey', muted_alpha=0.2)\n",
    "p1.circle(class0['Bland Chromatin'], class0['Single Epithelial Cell Size'],  size=17,\n",
    " color=\"green\", alpha=0.2, legend = 'Class 0', muted_color='grey', muted_alpha=0.2)\n",
    "\n",
    "p1.xaxis.axis_label = 'Bland Chromatin'\n",
    "p1.yaxis.axis_label = 'Single Epithelial Cell Size'\n",
    "p1.legend.location='top_left'\n",
    "#p4.legend.click_policy=\"mute\"\n",
    "\n",
    "# show the res\n",
    "show(p1)"
   ]
  },
  {
   "cell_type": "code",
   "execution_count": 36,
   "metadata": {},
   "outputs": [
    {
     "data": {
      "text/html": [
       "\n",
       "\n",
       "\n",
       "\n",
       "\n",
       "\n",
       "  <div class=\"bk-root\" id=\"d127955c-dd20-486c-a567-31f6d369419f\" data-root-id=\"1426\"></div>\n"
      ]
     },
     "metadata": {},
     "output_type": "display_data"
    },
    {
     "data": {
      "application/javascript": [
       "(function(root) {\n",
       "  function embed_document(root) {\n",
       "    \n",
       "  var docs_json = {\"847ce525-234d-44dc-8291-aa20ca2a5099\":{\"roots\":{\"references\":[{\"attributes\":{\"below\":[{\"id\":\"1437\",\"type\":\"LinearAxis\"}],\"center\":[{\"id\":\"1441\",\"type\":\"Grid\"},{\"id\":\"1446\",\"type\":\"Grid\"},{\"id\":\"1472\",\"type\":\"Legend\"}],\"left\":[{\"id\":\"1442\",\"type\":\"LinearAxis\"}],\"plot_height\":500,\"plot_width\":500,\"renderers\":[{\"id\":\"1464\",\"type\":\"GlyphRenderer\"},{\"id\":\"1478\",\"type\":\"GlyphRenderer\"},{\"id\":\"1492\",\"type\":\"GlyphRenderer\"},{\"id\":\"1499\",\"type\":\"GlyphRenderer\"}],\"title\":{\"id\":\"1427\",\"type\":\"Title\"},\"toolbar\":{\"id\":\"1453\",\"type\":\"Toolbar\"},\"x_range\":{\"id\":\"1429\",\"type\":\"DataRange1d\"},\"x_scale\":{\"id\":\"1433\",\"type\":\"LinearScale\"},\"y_range\":{\"id\":\"1431\",\"type\":\"DataRange1d\"},\"y_scale\":{\"id\":\"1435\",\"type\":\"LinearScale\"}},\"id\":\"1426\",\"subtype\":\"Figure\",\"type\":\"Plot\"},{\"attributes\":{},\"id\":\"1545\",\"type\":\"UnionRenderers\"},{\"attributes\":{\"callback\":null,\"data\":{\"x\":[9,4,5,4,4,5,7,3,7,8,5,7,6,7,3,8,4,3,2,3,4,7,7,3,3,5,5,5,4,3,3,4,4,8,7,4,3,7,4,4,6,2,7,3,2,7,8,3,4,5,7,3,7,8,7,5,5,8,7,1,3,4,4,7,5,8,3,7,5,3,3,10,6,5,5,3,7,5,7,7,9,7,4,7,8,7,3,8,7,7,10,5,8,9,2,7,7,8,7,9,7,8,4,4,4,3,5,7,3,5,7,3,3,5,10,7,5,5,4,7,8,3,7,3,3,5,5,3,10,4,5,4,2,7,7,7,7,3,3,8,3,4,8,7,4,5,3,7,6,4,3,3,4,7,9,3,7,4,3,7,4,3,8,5,7,8,7,7,7,9,8,6,7,8,10,5,5,2,10,8,10,1,8,10,7,9,7,7,10,9,8,3,4,7,6,4,8,9,9,7,5,6,7,7,10,2,10,8,9,7,7,6,10,4,10,7,4,7,8,8,7,10,7,8,10,7,5,10,10,7,7,7,7,10,5,4,8,10,10],\"y\":[7,2,7,6,4,5,6,2,8,6,2,6,3,8,10,8,4,4,2,2,3,10,8,4,3,5,6,2,3,10,5,3,8,4,10,6,3,8,10,5,5,10,5,10,2,6,10,3,2,8,3,5,2,10,4,10,8,9,4,5,8,4,6,10,6,4,3,6,5,8,6,8,3,10,8,6,5,4,5,6,5,6,10,5,10,6,7,5,4,7,3,5,6,10,1,3,3,4,3,10,3,6,5,8,6,6,3,5,2,2,8,10,4,3,10,5,6,10,3,3,3,3,3,3,3,4,2,2,8,10,4,6,2,6,4,4,9,3,4,4,10,5,6,5,2,2,6,5,2,4,3,4,2,2,10,5,3,7,3,10,8,3,10,6,8,5,4,2,3,6,8,3,10,10,10,4,3,6,4,6,6,2,5,6,6,4,4,4,10,5,6,3,3,3,6,7,3,3,4,3,4,4,4,4,5,6,6,8,3,4,5,4,6,6,4,4,3,4,4,5,5,10,3,5,6,7,5,7,10,3,6,5,5,5,4,4,7,3,4]},\"selected\":{\"id\":\"1486\",\"type\":\"Selection\"},\"selection_policy\":{\"id\":\"1487\",\"type\":\"UnionRenderers\"}},\"id\":\"1460\",\"type\":\"ColumnDataSource\"},{\"attributes\":{\"source\":{\"id\":\"1495\",\"type\":\"ColumnDataSource\"}},\"id\":\"1500\",\"type\":\"CDSView\"},{\"attributes\":{},\"id\":\"1544\",\"type\":\"Selection\"},{\"attributes\":{\"fill_alpha\":{\"value\":0.2},\"fill_color\":{\"value\":\"grey\"},\"line_alpha\":{\"value\":0.2},\"line_color\":{\"value\":\"grey\"},\"size\":{\"units\":\"screen\",\"value\":17},\"x\":{\"field\":\"x\"},\"y\":{\"field\":\"y\"}},\"id\":\"1463\",\"type\":\"Circle\"},{\"attributes\":{\"fill_alpha\":{\"value\":0.1},\"fill_color\":{\"value\":\"#1f77b4\"},\"line_alpha\":{\"value\":0.1},\"line_color\":{\"value\":\"#1f77b4\"},\"x\":{\"field\":\"x\"},\"y\":{\"field\":\"y\"}},\"id\":\"1491\",\"type\":\"Scatter\"},{\"attributes\":{},\"id\":\"1443\",\"type\":\"BasicTicker\"},{\"attributes\":{},\"id\":\"1541\",\"type\":\"UnionRenderers\"},{\"attributes\":{\"label\":{\"value\":\"Class 1\"},\"renderers\":[{\"id\":\"1464\",\"type\":\"GlyphRenderer\"}]},\"id\":\"1473\",\"type\":\"LegendItem\"},{\"attributes\":{\"fill_alpha\":{\"value\":0.1},\"fill_color\":{\"field\":\"c\",\"transform\":{\"id\":\"1494\",\"type\":\"LinearColorMapper\"}},\"line_alpha\":{\"value\":0.1},\"q\":{\"field\":\"q\"},\"r\":{\"field\":\"r\"},\"size\":0.5},\"id\":\"1497\",\"type\":\"HexTile\"},{\"attributes\":{\"source\":{\"id\":\"1489\",\"type\":\"ColumnDataSource\"}},\"id\":\"1493\",\"type\":\"CDSView\"},{\"attributes\":{\"data_source\":{\"id\":\"1460\",\"type\":\"ColumnDataSource\"},\"glyph\":{\"id\":\"1461\",\"type\":\"Circle\"},\"hover_glyph\":null,\"muted_glyph\":{\"id\":\"1463\",\"type\":\"Circle\"},\"nonselection_glyph\":{\"id\":\"1462\",\"type\":\"Circle\"},\"selection_glyph\":null,\"view\":{\"id\":\"1465\",\"type\":\"CDSView\"}},\"id\":\"1464\",\"type\":\"GlyphRenderer\"},{\"attributes\":{\"data_source\":{\"id\":\"1474\",\"type\":\"ColumnDataSource\"},\"glyph\":{\"id\":\"1475\",\"type\":\"Circle\"},\"hover_glyph\":null,\"muted_glyph\":{\"id\":\"1477\",\"type\":\"Circle\"},\"nonselection_glyph\":{\"id\":\"1476\",\"type\":\"Circle\"},\"selection_glyph\":null,\"view\":{\"id\":\"1479\",\"type\":\"CDSView\"}},\"id\":\"1478\",\"type\":\"GlyphRenderer\"},{\"attributes\":{},\"id\":\"1433\",\"type\":\"LinearScale\"},{\"attributes\":{\"fill_alpha\":{\"value\":0.2},\"fill_color\":{\"value\":\"grey\"},\"line_alpha\":{\"value\":0.2},\"line_color\":{\"value\":\"grey\"},\"size\":{\"units\":\"screen\",\"value\":17},\"x\":{\"field\":\"x\"},\"y\":{\"field\":\"y\"}},\"id\":\"1477\",\"type\":\"Circle\"},{\"attributes\":{\"callback\":null,\"data\":{\"c\":[13,10,122,19,1,11,125,10,3,2,17,108,2,7,7,4,5,6,7,8,1,2,4,6,3,1,1,3,3,6,5,2,4,2,5,3,1,4,1,13,5,3,4,1,14,2,3,11,12,5,2,2,6,5,2,1,6,1,1,2,3,2,5,1,3,1,2,5,1,5,3,2,5],\"q\":[2,3,3,3,4,4,4,4,5,5,5,5,6,6,6,7,7,7,7,7,8,8,8,8,8,8,9,9,9,9,9,9,9,9,10,10,10,10,10,10,10,11,11,11,11,11,12,12,12,12,12,13,13,13,13,14,14,14,14,14,14,14,15,15,15,15,15,16,16,16,17,17,18],\"r\":[-1,-4,-3,-1,-5,-4,-3,-1,-7,-5,-4,-3,-8,-5,-3,-8,-7,-5,-4,-3,-13,-9,-7,-5,-4,-3,-13,-11,-9,-8,-7,-5,-4,-1,-13,-11,-9,-8,-7,-4,-3,-13,-11,-8,-5,-4,-13,-8,-7,-5,-4,-9,-8,-7,-5,-12,-11,-9,-8,-7,-5,-4,-13,-12,-11,-9,-7,-13,-9,-8,-13,-11,-13]},\"selected\":{\"id\":\"1544\",\"type\":\"Selection\"},\"selection_policy\":{\"id\":\"1545\",\"type\":\"UnionRenderers\"}},\"id\":\"1495\",\"type\":\"ColumnDataSource\"},{\"attributes\":{\"active_drag\":\"auto\",\"active_inspect\":\"auto\",\"active_multi\":null,\"active_scroll\":\"auto\",\"active_tap\":\"auto\",\"tools\":[{\"id\":\"1447\",\"type\":\"PanTool\"},{\"id\":\"1448\",\"type\":\"WheelZoomTool\"},{\"id\":\"1449\",\"type\":\"BoxZoomTool\"},{\"id\":\"1450\",\"type\":\"SaveTool\"},{\"id\":\"1451\",\"type\":\"ResetTool\"},{\"id\":\"1452\",\"type\":\"HelpTool\"}]},\"id\":\"1453\",\"type\":\"Toolbar\"},{\"attributes\":{\"source\":{\"id\":\"1474\",\"type\":\"ColumnDataSource\"}},\"id\":\"1479\",\"type\":\"CDSView\"},{\"attributes\":{\"label\":{\"value\":\"Class 0\"},\"renderers\":[{\"id\":\"1478\",\"type\":\"GlyphRenderer\"}]},\"id\":\"1488\",\"type\":\"LegendItem\"},{\"attributes\":{\"data_source\":{\"id\":\"1489\",\"type\":\"ColumnDataSource\"},\"glyph\":{\"id\":\"1490\",\"type\":\"Scatter\"},\"hover_glyph\":null,\"muted_glyph\":null,\"nonselection_glyph\":{\"id\":\"1491\",\"type\":\"Scatter\"},\"selection_glyph\":null,\"view\":{\"id\":\"1493\",\"type\":\"CDSView\"}},\"id\":\"1492\",\"type\":\"GlyphRenderer\"},{\"attributes\":{\"fill_alpha\":{\"value\":0.1},\"fill_color\":{\"value\":\"#1f77b4\"},\"line_alpha\":{\"value\":0.1},\"line_color\":{\"value\":\"#1f77b4\"},\"size\":{\"units\":\"screen\",\"value\":17},\"x\":{\"field\":\"x\"},\"y\":{\"field\":\"y\"}},\"id\":\"1462\",\"type\":\"Circle\"},{\"attributes\":{\"fill_alpha\":{\"value\":0.2},\"fill_color\":{\"value\":\"green\"},\"line_alpha\":{\"value\":0.2},\"line_color\":{\"value\":\"green\"},\"size\":{\"units\":\"screen\",\"value\":17},\"x\":{\"field\":\"x\"},\"y\":{\"field\":\"y\"}},\"id\":\"1475\",\"type\":\"Circle\"},{\"attributes\":{},\"id\":\"1469\",\"type\":\"BasicTickFormatter\"},{\"attributes\":{},\"id\":\"1447\",\"type\":\"PanTool\"},{\"attributes\":{\"items\":[{\"id\":\"1473\",\"type\":\"LegendItem\"},{\"id\":\"1488\",\"type\":\"LegendItem\"}],\"location\":\"top_left\"},\"id\":\"1472\",\"type\":\"Legend\"},{\"attributes\":{\"fill_alpha\":{\"value\":0.1},\"fill_color\":{\"value\":\"#1f77b4\"},\"line_alpha\":{\"value\":0.1},\"line_color\":{\"value\":\"#1f77b4\"},\"size\":{\"units\":\"screen\",\"value\":17},\"x\":{\"field\":\"x\"},\"y\":{\"field\":\"y\"}},\"id\":\"1476\",\"type\":\"Circle\"},{\"attributes\":{},\"id\":\"1487\",\"type\":\"UnionRenderers\"},{\"attributes\":{\"text\":\"\"},\"id\":\"1427\",\"type\":\"Title\"},{\"attributes\":{\"source\":{\"id\":\"1460\",\"type\":\"ColumnDataSource\"}},\"id\":\"1465\",\"type\":\"CDSView\"},{\"attributes\":{\"callback\":null},\"id\":\"1431\",\"type\":\"DataRange1d\"},{\"attributes\":{},\"id\":\"1543\",\"type\":\"UnionRenderers\"},{\"attributes\":{\"axis_label\":\"Bland Chromatin\",\"formatter\":{\"id\":\"1467\",\"type\":\"BasicTickFormatter\"},\"ticker\":{\"id\":\"1438\",\"type\":\"BasicTicker\"}},\"id\":\"1437\",\"type\":\"LinearAxis\"},{\"attributes\":{},\"id\":\"1448\",\"type\":\"WheelZoomTool\"},{\"attributes\":{},\"id\":\"1467\",\"type\":\"BasicTickFormatter\"},{\"attributes\":{},\"id\":\"1486\",\"type\":\"Selection\"},{\"attributes\":{},\"id\":\"1540\",\"type\":\"Selection\"},{\"attributes\":{\"data_source\":{\"id\":\"1495\",\"type\":\"ColumnDataSource\"},\"glyph\":{\"id\":\"1497\",\"type\":\"HexTile\"},\"hover_glyph\":null,\"muted_glyph\":null,\"nonselection_glyph\":{\"id\":\"1498\",\"type\":\"HexTile\"},\"selection_glyph\":null,\"view\":{\"id\":\"1500\",\"type\":\"CDSView\"}},\"id\":\"1499\",\"type\":\"GlyphRenderer\"},{\"attributes\":{\"overlay\":{\"id\":\"1471\",\"type\":\"BoxAnnotation\"}},\"id\":\"1449\",\"type\":\"BoxZoomTool\"},{\"attributes\":{\"bottom_units\":\"screen\",\"fill_alpha\":{\"value\":0.5},\"fill_color\":{\"value\":\"lightgrey\"},\"left_units\":\"screen\",\"level\":\"overlay\",\"line_alpha\":{\"value\":1.0},\"line_color\":{\"value\":\"black\"},\"line_dash\":[4,4],\"line_width\":{\"value\":2},\"render_mode\":\"css\",\"right_units\":\"screen\",\"top_units\":\"screen\"},\"id\":\"1471\",\"type\":\"BoxAnnotation\"},{\"attributes\":{\"callback\":null},\"id\":\"1429\",\"type\":\"DataRange1d\"},{\"attributes\":{\"callback\":null,\"data\":{\"x\":[3,3,3,3,3,9,3,3,1,2,3,2,4,3,5,4,2,3,4,3,5,7,2,3,3,2,2,2,1,2,3,7,3,2,2,8,7,5,7,6,7,3,8,2,4,2,3,3,2,3,4,7,7,3,3,5,5,5,4,2,3,3,2,4,3,4,8,3,2,7,7,4,3,4,2,2,3,2,7,2,3,7,7,4,4,6,3,2,3,1,3,2,3,3,1,3,2,7,3,2,3,7,8,3,4,5,2,7,5,3,7,8,3,1,3,7,1,3,3,3,5,5,8,2,7,3,1,1,2,3,3,2,2,3,2,1,2,1,1,4,1,2,4,2,5,7,3,5,8,1,1,3,2,3,7,5,3,3,1,3,3,3,3,1,1,3,2,10,6,5,3,5,3,3,3,1,3,7,5,3,7,7,9,3,7,4,2,3,3,3,7,3,1,2,7,8,3,3,3,7,3,3,3,3,8,7,3,7,10,5,2,3,8,3,3,9,2,7,7,2,8,7,3,9,7,8,4,4,3,4,4,3,5,2,3,3,5,3,3,7,3,3,1,5,3,7,3,3,1,2,3,3,5,10,7,5,5,3,4,7,8,3,3,3,7,3,3,2,2,3,3,3,3,5,5,3,10,4,2,5,4,1,3,2,7,4,1,7,7,3,7,3,3,3,3,3,8,5,2,1,3,1,2,4,8,3,7,7,3,4,3,2,5,2,3,7,6,3,2,4,3,1,3,3,2,4,7,3,1,1,9,1,1,1,3,7,1,3,4,4,2,2,3,7,4,3,8,5,2,2,3,2,7,8,1,2,2,1,2,2,2,1,2,2,2,3,1,7,3,1,1,1,7,3,2,2,2,7,2,1,2,2,3,1,2,1,9,1,2,1,1,2,2,2,3,2,2,8,3,6,3,7,2,3,1,3,8,3,2,1,10,1,5,2,2,2,3,2,1,4,5,2,1,1,1,10,1,1,1,2,1,1,1,1,8,2,1,1,10,1,1,8,10,1,1,1,1,1,1,1,7,9,7,1,2,2,1,1,1,1,1,1,1,1,7,1,1,10,9,1,1,2,8,3,4,1,7,2,6,2,2,1,1,2,2,3,2,2,3,1,1,4,1,1,1,1,2,1,2,8,9,1,2,1,9,1,1,7,5,2,1,1,3,1,2,6,2,3,2,2,3,3,3,2,2,2,1,1,2,2,2,7,1,1,7,2,3,4,2,1,4,2,1,2,2,3,3,3,2,3,10,3,2,2,10,8,9,2,2,7,3,2,2,2,3,2,7,6,1,1,1,10,2,4,1,10,7,4,1,7,2,2,3,2,1,2,2,2,8,8,7,1,1,10,1,7,8,10,2,2,2,2,2,2,2,6,2,1,2,1,7,1,1,1,1,2,1,5,1,1,10,2,1,1,1,2,2,1,1,2,1,1,10,2,1,2,2,2,3,2,2,3,7,1,2,3,2,2,2,1,1,3,7,7,7,3,3,1,2,1,2,1,1,1,10,5,3,1,1,1,1,2,1,1,1,4,1,2,1,1,8,10,10],\"y\":[2,7,2,3,2,7,2,2,2,2,1,2,2,2,7,6,2,2,4,2,5,6,2,2,2,1,2,2,2,1,2,8,2,2,2,6,1,2,6,3,8,10,8,2,4,2,2,4,2,2,3,10,8,4,3,5,6,2,3,2,10,5,2,3,2,8,4,2,2,10,2,6,3,2,2,2,2,3,1,2,2,2,8,10,5,5,2,3,2,2,2,2,2,2,2,2,10,5,10,2,2,6,10,3,2,8,2,3,2,5,2,10,2,2,2,4,4,2,2,2,10,8,9,2,4,2,5,10,2,2,8,2,3,2,2,2,2,2,2,4,2,2,6,3,8,10,1,6,4,2,2,3,2,2,6,5,2,2,1,2,8,6,2,1,2,2,2,8,3,10,2,8,2,6,1,2,2,5,4,1,5,6,5,2,6,10,2,2,2,2,4,2,2,2,5,10,2,2,2,6,7,1,1,1,5,4,2,7,3,5,2,2,6,2,2,10,1,3,3,2,4,3,1,10,3,6,3,5,3,8,6,6,3,2,1,2,2,2,2,5,2,2,2,2,3,8,10,4,2,2,2,5,3,10,5,6,10,2,3,3,3,2,3,2,3,3,2,2,2,2,3,2,2,4,2,2,8,10,3,4,6,2,2,2,6,4,5,4,4,2,9,2,3,4,2,2,4,2,3,2,10,2,1,5,6,5,6,5,2,2,2,2,2,2,6,5,2,2,2,4,3,2,4,2,1,2,2,2,2,2,10,2,3,1,5,3,2,2,7,7,2,3,3,10,8,3,10,6,4,2,2,2,8,5,2,1,3,2,2,2,2,2,2,1,3,4,2,4,2,2,2,3,2,3,2,3,2,3,2,1,2,2,2,2,2,2,6,2,2,2,2,2,2,2,2,2,2,8,2,3,3,10,2,2,5,2,10,2,2,2,10,2,4,2,2,2,4,2,2,5,3,6,2,2,2,4,2,2,2,3,2,2,2,1,6,1,2,2,6,3,2,5,6,2,2,2,2,2,2,2,6,4,4,2,2,1,2,1,2,2,2,2,2,2,4,1,2,10,5,2,1,1,6,3,3,2,3,1,6,4,1,1,2,2,2,2,2,2,2,2,2,7,2,2,2,2,2,2,1,3,3,1,1,2,4,3,3,3,4,2,2,2,2,2,1,4,2,1,2,2,2,2,2,2,2,2,2,2,2,2,2,4,1,1,4,2,2,2,2,2,2,1,2,2,2,2,2,2,2,2,5,2,2,6,6,8,3,2,2,4,2,2,2,2,2,2,5,4,2,3,2,6,2,6,2,4,4,3,2,4,2,2,2,2,1,2,1,2,4,5,5,2,2,10,2,3,5,6,2,1,2,2,2,2,2,3,2,2,1,3,7,2,2,2,2,2,2,5,2,2,7,2,2,2,2,2,2,2,2,2,2,2,10,2,3,2,2,2,2,2,2,8,3,2,2,2,2,2,2,2,2,2,6,5,5,2,2,3,2,2,2,2,2,2,5,4,2,2,2,2,2,2,2,2,2,4,2,2,3,2,7,3,4]},\"selected\":{\"id\":\"1542\",\"type\":\"Selection\"},\"selection_policy\":{\"id\":\"1543\",\"type\":\"UnionRenderers\"}},\"id\":\"1489\",\"type\":\"ColumnDataSource\"},{\"attributes\":{},\"id\":\"1450\",\"type\":\"SaveTool\"},{\"attributes\":{},\"id\":\"1435\",\"type\":\"LinearScale\"},{\"attributes\":{},\"id\":\"1451\",\"type\":\"ResetTool\"},{\"attributes\":{\"fill_alpha\":{\"value\":0.2},\"fill_color\":{\"value\":\"red\"},\"line_alpha\":{\"value\":0.2},\"line_color\":{\"value\":\"red\"},\"size\":{\"units\":\"screen\",\"value\":17},\"x\":{\"field\":\"x\"},\"y\":{\"field\":\"y\"}},\"id\":\"1461\",\"type\":\"Circle\"},{\"attributes\":{\"fill_color\":{\"value\":\"#1f77b4\"},\"line_color\":{\"value\":\"#1f77b4\"},\"x\":{\"field\":\"x\"},\"y\":{\"field\":\"y\"}},\"id\":\"1490\",\"type\":\"Scatter\"},{\"attributes\":{\"fill_alpha\":{\"value\":0.1},\"fill_color\":{\"value\":\"#1f77b4\"},\"line_alpha\":{\"value\":0.1},\"line_color\":{\"value\":\"#1f77b4\"},\"q\":{\"field\":\"q\"},\"r\":{\"field\":\"r\"},\"size\":0.5},\"id\":\"1498\",\"type\":\"HexTile\"},{\"attributes\":{\"high\":125,\"low\":0,\"palette\":[\"#440154\",\"#440255\",\"#440357\",\"#450558\",\"#45065A\",\"#45085B\",\"#46095C\",\"#460B5E\",\"#460C5F\",\"#460E61\",\"#470F62\",\"#471163\",\"#471265\",\"#471466\",\"#471567\",\"#471669\",\"#47186A\",\"#48196B\",\"#481A6C\",\"#481C6E\",\"#481D6F\",\"#481E70\",\"#482071\",\"#482172\",\"#482273\",\"#482374\",\"#472575\",\"#472676\",\"#472777\",\"#472878\",\"#472A79\",\"#472B7A\",\"#472C7B\",\"#462D7C\",\"#462F7C\",\"#46307D\",\"#46317E\",\"#45327F\",\"#45347F\",\"#453580\",\"#453681\",\"#443781\",\"#443982\",\"#433A83\",\"#433B83\",\"#433C84\",\"#423D84\",\"#423E85\",\"#424085\",\"#414186\",\"#414286\",\"#404387\",\"#404487\",\"#3F4587\",\"#3F4788\",\"#3E4888\",\"#3E4989\",\"#3D4A89\",\"#3D4B89\",\"#3D4C89\",\"#3C4D8A\",\"#3C4E8A\",\"#3B508A\",\"#3B518A\",\"#3A528B\",\"#3A538B\",\"#39548B\",\"#39558B\",\"#38568B\",\"#38578C\",\"#37588C\",\"#37598C\",\"#365A8C\",\"#365B8C\",\"#355C8C\",\"#355D8C\",\"#345E8D\",\"#345F8D\",\"#33608D\",\"#33618D\",\"#32628D\",\"#32638D\",\"#31648D\",\"#31658D\",\"#31668D\",\"#30678D\",\"#30688D\",\"#2F698D\",\"#2F6A8D\",\"#2E6B8E\",\"#2E6C8E\",\"#2E6D8E\",\"#2D6E8E\",\"#2D6F8E\",\"#2C708E\",\"#2C718E\",\"#2C728E\",\"#2B738E\",\"#2B748E\",\"#2A758E\",\"#2A768E\",\"#2A778E\",\"#29788E\",\"#29798E\",\"#287A8E\",\"#287A8E\",\"#287B8E\",\"#277C8E\",\"#277D8E\",\"#277E8E\",\"#267F8E\",\"#26808E\",\"#26818E\",\"#25828E\",\"#25838D\",\"#24848D\",\"#24858D\",\"#24868D\",\"#23878D\",\"#23888D\",\"#23898D\",\"#22898D\",\"#228A8D\",\"#228B8D\",\"#218C8D\",\"#218D8C\",\"#218E8C\",\"#208F8C\",\"#20908C\",\"#20918C\",\"#1F928C\",\"#1F938B\",\"#1F948B\",\"#1F958B\",\"#1F968B\",\"#1E978A\",\"#1E988A\",\"#1E998A\",\"#1E998A\",\"#1E9A89\",\"#1E9B89\",\"#1E9C89\",\"#1E9D88\",\"#1E9E88\",\"#1E9F88\",\"#1EA087\",\"#1FA187\",\"#1FA286\",\"#1FA386\",\"#20A485\",\"#20A585\",\"#21A685\",\"#21A784\",\"#22A784\",\"#23A883\",\"#23A982\",\"#24AA82\",\"#25AB81\",\"#26AC81\",\"#27AD80\",\"#28AE7F\",\"#29AF7F\",\"#2AB07E\",\"#2BB17D\",\"#2CB17D\",\"#2EB27C\",\"#2FB37B\",\"#30B47A\",\"#32B57A\",\"#33B679\",\"#35B778\",\"#36B877\",\"#38B976\",\"#39B976\",\"#3BBA75\",\"#3DBB74\",\"#3EBC73\",\"#40BD72\",\"#42BE71\",\"#44BE70\",\"#45BF6F\",\"#47C06E\",\"#49C16D\",\"#4BC26C\",\"#4DC26B\",\"#4FC369\",\"#51C468\",\"#53C567\",\"#55C666\",\"#57C665\",\"#59C764\",\"#5BC862\",\"#5EC961\",\"#60C960\",\"#62CA5F\",\"#64CB5D\",\"#67CC5C\",\"#69CC5B\",\"#6BCD59\",\"#6DCE58\",\"#70CE56\",\"#72CF55\",\"#74D054\",\"#77D052\",\"#79D151\",\"#7CD24F\",\"#7ED24E\",\"#81D34C\",\"#83D34B\",\"#86D449\",\"#88D547\",\"#8BD546\",\"#8DD644\",\"#90D643\",\"#92D741\",\"#95D73F\",\"#97D83E\",\"#9AD83C\",\"#9DD93A\",\"#9FD938\",\"#A2DA37\",\"#A5DA35\",\"#A7DB33\",\"#AADB32\",\"#ADDC30\",\"#AFDC2E\",\"#B2DD2C\",\"#B5DD2B\",\"#B7DD29\",\"#BADE27\",\"#BDDE26\",\"#BFDF24\",\"#C2DF22\",\"#C5DF21\",\"#C7E01F\",\"#CAE01E\",\"#CDE01D\",\"#CFE11C\",\"#D2E11B\",\"#D4E11A\",\"#D7E219\",\"#DAE218\",\"#DCE218\",\"#DFE318\",\"#E1E318\",\"#E4E318\",\"#E7E419\",\"#E9E419\",\"#ECE41A\",\"#EEE51B\",\"#F1E51C\",\"#F3E51E\",\"#F6E61F\",\"#F8E621\",\"#FAE622\",\"#FDE724\"]},\"id\":\"1494\",\"type\":\"LinearColorMapper\"},{\"attributes\":{\"ticker\":{\"id\":\"1438\",\"type\":\"BasicTicker\"}},\"id\":\"1441\",\"type\":\"Grid\"},{\"attributes\":{\"callback\":null,\"data\":{\"x\":[3,3,3,3,3,3,3,1,2,3,2,3,2,3,3,2,3,2,2,2,1,2,3,3,2,2,7,2,2,3,2,2,3,3,2,7,4,2,2,3,2,7,2,3,7,3,2,3,1,3,2,3,3,1,3,3,2,5,3,1,3,1,3,3,3,2,3,1,2,3,2,2,3,2,1,2,1,1,1,2,2,5,3,1,1,2,3,3,3,1,3,3,1,1,3,2,3,3,3,1,3,3,3,2,3,3,3,7,3,1,2,3,3,3,3,3,3,3,2,3,3,3,2,3,4,3,2,3,3,5,3,3,3,1,3,1,2,3,3,3,3,3,3,2,2,3,3,3,2,1,3,4,1,3,3,3,3,5,2,1,1,2,3,7,3,3,2,2,3,2,1,3,2,3,1,1,1,1,1,1,3,4,2,2,2,2,3,2,1,2,2,1,2,2,2,1,2,2,2,3,1,3,1,1,1,3,2,2,2,2,1,2,2,3,1,2,1,1,2,1,1,2,2,2,3,2,2,3,3,2,3,1,3,3,2,1,1,2,2,2,3,2,1,4,1,1,1,1,1,1,2,1,1,1,1,2,1,1,1,1,1,1,1,1,1,1,1,2,2,1,1,1,1,1,1,1,1,1,1,1,1,2,1,2,2,2,1,1,2,2,3,2,2,3,1,1,1,1,1,1,2,1,2,1,2,1,1,1,2,1,1,3,1,2,2,3,2,2,3,3,3,2,2,2,1,1,2,2,2,1,1,2,3,4,2,1,4,2,1,2,2,3,3,3,2,3,3,2,2,2,3,2,2,2,3,2,1,1,1,2,1,1,2,2,3,2,1,2,2,2,1,1,1,2,2,2,2,2,2,2,6,2,1,2,1,1,1,1,1,2,1,1,1,2,1,1,1,2,2,1,1,2,1,1,2,1,2,2,2,3,2,2,3,1,2,3,2,2,2,1,1,3,3,3,1,2,1,2,1,1,1,3,1,1,1,1,2,1,1,1,1,2,1,1],\"y\":[2,7,2,3,2,2,2,2,2,1,2,2,2,2,2,2,2,1,2,2,2,1,2,2,2,2,1,2,2,2,2,2,2,2,2,2,2,2,2,2,3,1,2,2,2,2,3,2,2,2,2,2,2,2,2,2,2,2,2,2,2,4,2,2,2,2,2,10,2,2,2,3,2,2,2,2,2,2,2,2,3,8,1,2,2,2,2,2,2,1,2,2,1,2,2,2,2,2,1,2,2,1,2,2,2,2,2,4,2,2,2,2,2,2,1,1,1,2,2,2,2,2,2,1,3,3,2,1,2,2,2,2,2,2,3,2,2,2,5,2,2,2,2,2,2,2,2,2,3,2,2,4,5,2,2,2,2,2,3,2,2,1,5,6,2,2,2,2,2,2,2,2,1,2,2,2,2,3,1,2,2,7,2,3,4,2,2,2,2,1,3,2,2,2,2,2,2,1,3,4,2,2,2,2,3,3,2,3,2,2,1,2,2,2,2,2,2,2,2,2,2,2,2,2,2,2,2,2,3,2,2,5,2,2,2,2,2,2,2,2,4,2,2,5,2,2,2,2,2,2,3,2,2,2,1,1,2,2,3,2,2,2,2,2,2,2,2,2,1,2,1,2,2,2,2,2,2,1,2,2,1,1,2,1,4,1,1,2,2,2,2,2,2,2,2,2,2,2,2,2,2,2,1,1,1,2,3,3,2,2,2,2,2,1,2,1,2,2,2,2,2,2,2,2,2,2,2,2,2,1,1,2,2,2,2,2,2,1,2,2,2,2,2,2,2,2,2,2,2,2,2,2,2,2,2,2,2,3,2,2,2,2,2,2,2,2,1,2,1,2,2,2,2,2,1,2,2,2,2,2,3,2,2,1,3,2,2,2,2,2,2,2,2,2,2,2,2,2,2,2,2,2,2,2,2,3,2,2,2,2,2,2,8,2,2,2,2,2,2,2,2,2,2,2,3,2,2,2,2,2,2,2,2,2,2,2,2,2,2,2,2,2,3,2]},\"selected\":{\"id\":\"1540\",\"type\":\"Selection\"},\"selection_policy\":{\"id\":\"1541\",\"type\":\"UnionRenderers\"}},\"id\":\"1474\",\"type\":\"ColumnDataSource\"},{\"attributes\":{},\"id\":\"1452\",\"type\":\"HelpTool\"},{\"attributes\":{},\"id\":\"1438\",\"type\":\"BasicTicker\"},{\"attributes\":{\"axis_label\":\"Single Epithelial Cell Size\",\"formatter\":{\"id\":\"1469\",\"type\":\"BasicTickFormatter\"},\"ticker\":{\"id\":\"1443\",\"type\":\"BasicTicker\"}},\"id\":\"1442\",\"type\":\"LinearAxis\"},{\"attributes\":{},\"id\":\"1542\",\"type\":\"Selection\"},{\"attributes\":{\"dimension\":1,\"ticker\":{\"id\":\"1443\",\"type\":\"BasicTicker\"}},\"id\":\"1446\",\"type\":\"Grid\"}],\"root_ids\":[\"1426\"]},\"title\":\"Bokeh Application\",\"version\":\"1.3.4\"}};\n",
       "  var render_items = [{\"docid\":\"847ce525-234d-44dc-8291-aa20ca2a5099\",\"roots\":{\"1426\":\"d127955c-dd20-486c-a567-31f6d369419f\"}}];\n",
       "  root.Bokeh.embed.embed_items_notebook(docs_json, render_items);\n",
       "\n",
       "  }\n",
       "  if (root.Bokeh !== undefined) {\n",
       "    embed_document(root);\n",
       "  } else {\n",
       "    var attempts = 0;\n",
       "    var timer = setInterval(function(root) {\n",
       "      if (root.Bokeh !== undefined) {\n",
       "        embed_document(root);\n",
       "        clearInterval(timer);\n",
       "      }\n",
       "      attempts++;\n",
       "      if (attempts > 100) {\n",
       "        console.log(\"Bokeh: ERROR: Unable to run BokehJS code because BokehJS library is missing\");\n",
       "        clearInterval(timer);\n",
       "      }\n",
       "    }, 10, root)\n",
       "  }\n",
       "})(window);"
      ],
      "application/vnd.bokehjs_exec.v0+json": ""
     },
     "metadata": {
      "application/vnd.bokehjs_exec.v0+json": {
       "id": "1426"
      }
     },
     "output_type": "display_data"
    }
   ],
   "source": [
    "\n",
    "\n",
    "p2 = figure(title = '', plot_width=500, plot_height=500)\n",
    "# add a circle renderer with a size, color, and alpha\n",
    "#p2.circle(class1['Bland Chromatin'], class1['Single Epithelial Cell Size'],  size=17,\n",
    " #color=\"red\", alpha=0.2, legend = 'Class 1', muted_color='grey', muted_alpha=0.2)\n",
    "#p2.circle(class0['Bland Chromatin'], class0['Single Epithelial Cell Size'],  size=17,\n",
    " #color=\"green\", alpha=0.2, legend = 'Class 0', muted_color='grey', muted_alpha=0.2)\n",
    "\n",
    "p2.circle(class1['Bland Chromatin'], class1['Single Epithelial Cell Size'],  size=17,\n",
    " color=\"red\", alpha=0.2, legend = 'Class 1', muted_color='grey', muted_alpha=0.2)\n",
    "p2.circle(class0['Bland Chromatin'], class0['Single Epithelial Cell Size'],  size=17,\n",
    " color=\"green\", alpha=0.2, legend = 'Class 0', muted_color='grey', muted_alpha=0.2)    \n",
    "    \n",
    "\n",
    "p2.scatter(df_bC['Bland Chromatin'], df_bC['Single Epithelial Cell Size'])    \n",
    "\n",
    "p2.hexbin(df_bC['Bland Chromatin'], df_bC['Single Epithelial Cell Size'], size=0.5, alpha = 0.1)\n",
    "\n",
    "p2.xaxis.axis_label = 'Bland Chromatin'\n",
    "p2.yaxis.axis_label = 'Single Epithelial Cell Size'\n",
    "p2.legend.location='top_left'\n",
    "#p4.legend.click_policy=\"mute\"\n",
    "\n",
    "# show the res\n",
    "show(p2)"
   ]
  },
  {
   "cell_type": "code",
   "execution_count": null,
   "metadata": {},
   "outputs": [],
   "source": []
  },
  {
   "cell_type": "code",
   "execution_count": 16,
   "metadata": {},
   "outputs": [
    {
     "data": {
      "text/html": [
       "\n",
       "\n",
       "\n",
       "\n",
       "\n",
       "\n",
       "  <div class=\"bk-root\" id=\"038b00ee-d580-473f-ab55-097d2dfd36d5\" data-root-id=\"1318\"></div>\n"
      ]
     },
     "metadata": {},
     "output_type": "display_data"
    },
    {
     "data": {
      "application/javascript": [
       "(function(root) {\n",
       "  function embed_document(root) {\n",
       "    \n",
       "  var docs_json = {\"5b8d12ae-b085-4aeb-b76b-1fb942b79938\":{\"roots\":{\"references\":[{\"attributes\":{\"background_fill_color\":{\"value\":\"#440154\"},\"below\":[{\"id\":\"1329\",\"type\":\"LinearAxis\"}],\"center\":[{\"id\":\"1333\",\"type\":\"Grid\"},{\"id\":\"1338\",\"type\":\"Grid\"}],\"left\":[{\"id\":\"1334\",\"type\":\"LinearAxis\"}],\"match_aspect\":true,\"renderers\":[{\"id\":\"1351\",\"type\":\"GlyphRenderer\"}],\"title\":{\"id\":\"1319\",\"type\":\"Title\"},\"toolbar\":{\"id\":\"1342\",\"type\":\"Toolbar\"},\"x_range\":{\"id\":\"1321\",\"type\":\"DataRange1d\"},\"x_scale\":{\"id\":\"1325\",\"type\":\"LinearScale\"},\"y_range\":{\"id\":\"1323\",\"type\":\"DataRange1d\"},\"y_scale\":{\"id\":\"1327\",\"type\":\"LinearScale\"}},\"id\":\"1318\",\"subtype\":\"Figure\",\"type\":\"Plot\"},{\"attributes\":{\"callback\":null,\"data\":{\"counts\":[13,122,19,10,125,1,10,3,11,108,2,17,7,7,2,7,5,8,4,6,1,3,4,2,1,6,6,3,2,1,5,4,3,5,2,4,3,13,5,1,1,14,4,1,2,3,12,11,5,3,2,5,2,2,6,6,2,2,1,1,3,1,3,5,2,1,1,5,5,1,2,3,5],\"index\":[0,1,2,3,4,5,6,7,8,9,10,11,12,13,14,15,16,17,18,19,20,21,22,23,24,25,26,27,28,29,30,31,32,33,34,35,36,37,38,39,40,41,42,43,44,45,46,47,48,49,50,51,52,53,54,55,56,57,58,59,60,61,62,63,64,65,66,67,68,69,70,71,72],\"q\":[9,12,15,16,18,19,21,22,22,24,25,27,30,31,32,33,34,35,37,37,39,39,40,41,41,42,43,44,44,45,45,45,47,47,48,49,50,50,51,51,52,54,55,55,56,57,57,60,60,62,62,63,64,65,66,67,68,68,70,70,71,72,73,74,74,75,76,78,80,81,84,85,91],\"r\":[-7,-13,-7,-20,-13,-27,-7,-33,-20,-13,-27,-20,-13,-27,-40,-20,-33,-13,-40,-27,-67,-20,-33,-47,-13,-27,-40,-53,-7,-67,-33,-20,-47,-13,-27,-40,-53,-20,-67,-33,-47,-27,-53,-40,-20,-67,-33,-40,-27,-67,-20,-33,-47,-27,-40,-53,-33,-20,-60,-47,-27,-40,-53,-67,-33,-47,-60,-40,-67,-47,-53,-67,-67]},\"selected\":{\"id\":\"1382\",\"type\":\"Selection\"},\"selection_policy\":{\"id\":\"1383\",\"type\":\"UnionRenderers\"}},\"id\":\"1347\",\"type\":\"ColumnDataSource\"},{\"attributes\":{\"ticker\":{\"id\":\"1330\",\"type\":\"BasicTicker\"},\"visible\":false},\"id\":\"1333\",\"type\":\"Grid\"},{\"attributes\":{\"fill_alpha\":{\"value\":0.1},\"fill_color\":{\"value\":\"#1f77b4\"},\"line_alpha\":{\"value\":0.1},\"line_color\":{\"value\":\"#1f77b4\"},\"q\":{\"field\":\"q\"},\"r\":{\"field\":\"r\"},\"size\":0.1},\"id\":\"1350\",\"type\":\"HexTile\"},{\"attributes\":{\"formatter\":{\"id\":\"1380\",\"type\":\"BasicTickFormatter\"},\"ticker\":{\"id\":\"1335\",\"type\":\"BasicTicker\"}},\"id\":\"1334\",\"type\":\"LinearAxis\"},{\"attributes\":{},\"id\":\"1378\",\"type\":\"BasicTickFormatter\"},{\"attributes\":{\"dimension\":1,\"ticker\":{\"id\":\"1335\",\"type\":\"BasicTicker\"},\"visible\":false},\"id\":\"1338\",\"type\":\"Grid\"},{\"attributes\":{},\"id\":\"1380\",\"type\":\"BasicTickFormatter\"},{\"attributes\":{\"fill_color\":{\"field\":\"counts\",\"transform\":{\"id\":\"1346\",\"type\":\"LinearColorMapper\"}},\"q\":{\"field\":\"q\"},\"r\":{\"field\":\"r\"},\"size\":0.1},\"id\":\"1349\",\"type\":\"HexTile\"},{\"attributes\":{\"active_drag\":\"auto\",\"active_inspect\":\"auto\",\"active_multi\":null,\"active_scroll\":\"auto\",\"active_tap\":\"auto\",\"tools\":[{\"id\":\"1339\",\"type\":\"WheelZoomTool\"},{\"id\":\"1340\",\"type\":\"PanTool\"},{\"id\":\"1341\",\"type\":\"ResetTool\"}]},\"id\":\"1342\",\"type\":\"Toolbar\"},{\"attributes\":{\"callback\":null},\"id\":\"1321\",\"type\":\"DataRange1d\"},{\"attributes\":{},\"id\":\"1327\",\"type\":\"LinearScale\"},{\"attributes\":{},\"id\":\"1325\",\"type\":\"LinearScale\"},{\"attributes\":{},\"id\":\"1339\",\"type\":\"WheelZoomTool\"},{\"attributes\":{},\"id\":\"1341\",\"type\":\"ResetTool\"},{\"attributes\":{},\"id\":\"1340\",\"type\":\"PanTool\"},{\"attributes\":{},\"id\":\"1382\",\"type\":\"Selection\"},{\"attributes\":{\"high\":125,\"low\":0,\"palette\":[\"#440154\",\"#440255\",\"#440357\",\"#450558\",\"#45065A\",\"#45085B\",\"#46095C\",\"#460B5E\",\"#460C5F\",\"#460E61\",\"#470F62\",\"#471163\",\"#471265\",\"#471466\",\"#471567\",\"#471669\",\"#47186A\",\"#48196B\",\"#481A6C\",\"#481C6E\",\"#481D6F\",\"#481E70\",\"#482071\",\"#482172\",\"#482273\",\"#482374\",\"#472575\",\"#472676\",\"#472777\",\"#472878\",\"#472A79\",\"#472B7A\",\"#472C7B\",\"#462D7C\",\"#462F7C\",\"#46307D\",\"#46317E\",\"#45327F\",\"#45347F\",\"#453580\",\"#453681\",\"#443781\",\"#443982\",\"#433A83\",\"#433B83\",\"#433C84\",\"#423D84\",\"#423E85\",\"#424085\",\"#414186\",\"#414286\",\"#404387\",\"#404487\",\"#3F4587\",\"#3F4788\",\"#3E4888\",\"#3E4989\",\"#3D4A89\",\"#3D4B89\",\"#3D4C89\",\"#3C4D8A\",\"#3C4E8A\",\"#3B508A\",\"#3B518A\",\"#3A528B\",\"#3A538B\",\"#39548B\",\"#39558B\",\"#38568B\",\"#38578C\",\"#37588C\",\"#37598C\",\"#365A8C\",\"#365B8C\",\"#355C8C\",\"#355D8C\",\"#345E8D\",\"#345F8D\",\"#33608D\",\"#33618D\",\"#32628D\",\"#32638D\",\"#31648D\",\"#31658D\",\"#31668D\",\"#30678D\",\"#30688D\",\"#2F698D\",\"#2F6A8D\",\"#2E6B8E\",\"#2E6C8E\",\"#2E6D8E\",\"#2D6E8E\",\"#2D6F8E\",\"#2C708E\",\"#2C718E\",\"#2C728E\",\"#2B738E\",\"#2B748E\",\"#2A758E\",\"#2A768E\",\"#2A778E\",\"#29788E\",\"#29798E\",\"#287A8E\",\"#287A8E\",\"#287B8E\",\"#277C8E\",\"#277D8E\",\"#277E8E\",\"#267F8E\",\"#26808E\",\"#26818E\",\"#25828E\",\"#25838D\",\"#24848D\",\"#24858D\",\"#24868D\",\"#23878D\",\"#23888D\",\"#23898D\",\"#22898D\",\"#228A8D\",\"#228B8D\",\"#218C8D\",\"#218D8C\",\"#218E8C\",\"#208F8C\",\"#20908C\",\"#20918C\",\"#1F928C\",\"#1F938B\",\"#1F948B\",\"#1F958B\",\"#1F968B\",\"#1E978A\",\"#1E988A\",\"#1E998A\",\"#1E998A\",\"#1E9A89\",\"#1E9B89\",\"#1E9C89\",\"#1E9D88\",\"#1E9E88\",\"#1E9F88\",\"#1EA087\",\"#1FA187\",\"#1FA286\",\"#1FA386\",\"#20A485\",\"#20A585\",\"#21A685\",\"#21A784\",\"#22A784\",\"#23A883\",\"#23A982\",\"#24AA82\",\"#25AB81\",\"#26AC81\",\"#27AD80\",\"#28AE7F\",\"#29AF7F\",\"#2AB07E\",\"#2BB17D\",\"#2CB17D\",\"#2EB27C\",\"#2FB37B\",\"#30B47A\",\"#32B57A\",\"#33B679\",\"#35B778\",\"#36B877\",\"#38B976\",\"#39B976\",\"#3BBA75\",\"#3DBB74\",\"#3EBC73\",\"#40BD72\",\"#42BE71\",\"#44BE70\",\"#45BF6F\",\"#47C06E\",\"#49C16D\",\"#4BC26C\",\"#4DC26B\",\"#4FC369\",\"#51C468\",\"#53C567\",\"#55C666\",\"#57C665\",\"#59C764\",\"#5BC862\",\"#5EC961\",\"#60C960\",\"#62CA5F\",\"#64CB5D\",\"#67CC5C\",\"#69CC5B\",\"#6BCD59\",\"#6DCE58\",\"#70CE56\",\"#72CF55\",\"#74D054\",\"#77D052\",\"#79D151\",\"#7CD24F\",\"#7ED24E\",\"#81D34C\",\"#83D34B\",\"#86D449\",\"#88D547\",\"#8BD546\",\"#8DD644\",\"#90D643\",\"#92D741\",\"#95D73F\",\"#97D83E\",\"#9AD83C\",\"#9DD93A\",\"#9FD938\",\"#A2DA37\",\"#A5DA35\",\"#A7DB33\",\"#AADB32\",\"#ADDC30\",\"#AFDC2E\",\"#B2DD2C\",\"#B5DD2B\",\"#B7DD29\",\"#BADE27\",\"#BDDE26\",\"#BFDF24\",\"#C2DF22\",\"#C5DF21\",\"#C7E01F\",\"#CAE01E\",\"#CDE01D\",\"#CFE11C\",\"#D2E11B\",\"#D4E11A\",\"#D7E219\",\"#DAE218\",\"#DCE218\",\"#DFE318\",\"#E1E318\",\"#E4E318\",\"#E7E419\",\"#E9E419\",\"#ECE41A\",\"#EEE51B\",\"#F1E51C\",\"#F3E51E\",\"#F6E61F\",\"#F8E621\",\"#FAE622\",\"#FDE724\"]},\"id\":\"1346\",\"type\":\"LinearColorMapper\"},{\"attributes\":{\"source\":{\"id\":\"1347\",\"type\":\"ColumnDataSource\"}},\"id\":\"1352\",\"type\":\"CDSView\"},{\"attributes\":{\"callback\":null},\"id\":\"1323\",\"type\":\"DataRange1d\"},{\"attributes\":{},\"id\":\"1330\",\"type\":\"BasicTicker\"},{\"attributes\":{},\"id\":\"1335\",\"type\":\"BasicTicker\"},{\"attributes\":{},\"id\":\"1383\",\"type\":\"UnionRenderers\"},{\"attributes\":{\"formatter\":{\"id\":\"1378\",\"type\":\"BasicTickFormatter\"},\"ticker\":{\"id\":\"1330\",\"type\":\"BasicTicker\"}},\"id\":\"1329\",\"type\":\"LinearAxis\"},{\"attributes\":{\"text\":\"Manual hex bin for 50000 points\"},\"id\":\"1319\",\"type\":\"Title\"},{\"attributes\":{\"data_source\":{\"id\":\"1347\",\"type\":\"ColumnDataSource\"},\"glyph\":{\"id\":\"1349\",\"type\":\"HexTile\"},\"hover_glyph\":null,\"muted_glyph\":null,\"nonselection_glyph\":{\"id\":\"1350\",\"type\":\"HexTile\"},\"selection_glyph\":null,\"view\":{\"id\":\"1352\",\"type\":\"CDSView\"}},\"id\":\"1351\",\"type\":\"GlyphRenderer\"}],\"root_ids\":[\"1318\"]},\"title\":\"Bokeh Application\",\"version\":\"1.3.4\"}};\n",
       "  var render_items = [{\"docid\":\"5b8d12ae-b085-4aeb-b76b-1fb942b79938\",\"roots\":{\"1318\":\"038b00ee-d580-473f-ab55-097d2dfd36d5\"}}];\n",
       "  root.Bokeh.embed.embed_items_notebook(docs_json, render_items);\n",
       "\n",
       "  }\n",
       "  if (root.Bokeh !== undefined) {\n",
       "    embed_document(root);\n",
       "  } else {\n",
       "    var attempts = 0;\n",
       "    var timer = setInterval(function(root) {\n",
       "      if (root.Bokeh !== undefined) {\n",
       "        embed_document(root);\n",
       "        clearInterval(timer);\n",
       "      }\n",
       "      attempts++;\n",
       "      if (attempts > 100) {\n",
       "        console.log(\"Bokeh: ERROR: Unable to run BokehJS code because BokehJS library is missing\");\n",
       "        clearInterval(timer);\n",
       "      }\n",
       "    }, 10, root)\n",
       "  }\n",
       "})(window);"
      ],
      "application/vnd.bokehjs_exec.v0+json": ""
     },
     "metadata": {
      "application/vnd.bokehjs_exec.v0+json": {
       "id": "1318"
      }
     },
     "output_type": "display_data"
    }
   ],
   "source": [
    "x = df_bC['Bland Chromatin']\n",
    "\n",
    "y = df_bC['Single Epithelial Cell Size']\n",
    "\n",
    "bins = hexbin(x, y, 0.1)\n",
    "\n",
    "p = figure(title=\"Manual hex bin for 50000 points\", tools=\"wheel_zoom,pan,reset\",\n",
    "           match_aspect=True, background_fill_color='#440154')\n",
    "p.grid.visible = False\n",
    "\n",
    "p.hex_tile(q=\"q\", r=\"r\", size=0.1, line_color=None, source=bins,\n",
    "           fill_color=linear_cmap('counts', 'Viridis256', 0, max(bins.counts)))\n",
    "\n",
    "#output_file(\"hex_tile.html\")\n",
    "\n",
    "show(p)"
   ]
  },
  {
   "cell_type": "code",
   "execution_count": null,
   "metadata": {},
   "outputs": [],
   "source": []
  },
  {
   "cell_type": "code",
   "execution_count": null,
   "metadata": {},
   "outputs": [],
   "source": []
  },
  {
   "cell_type": "code",
   "execution_count": null,
   "metadata": {},
   "outputs": [],
   "source": []
  },
  {
   "cell_type": "code",
   "execution_count": 17,
   "metadata": {},
   "outputs": [
    {
     "name": "stdout",
     "output_type": "stream",
     "text": [
      "<class 'pandas.core.frame.DataFrame'>\n",
      "RangeIndex: 683 entries, 0 to 682\n",
      "Data columns (total 10 columns):\n",
      "Clump Thickness                683 non-null int64\n",
      "Uniformity of Cell Size        683 non-null int64\n",
      "Uniformity of Cell Shape       683 non-null int64\n",
      "Marginal Adhesion              683 non-null int64\n",
      "Single Epithelial Cell Size    683 non-null int64\n",
      "Bare Nuclei                    683 non-null int64\n",
      "Bland Chromatin                683 non-null int64\n",
      "Normal Nucleoli                683 non-null int64\n",
      "Mitoses                        683 non-null int64\n",
      "Class                          683 non-null int64\n",
      "dtypes: int64(10)\n",
      "memory usage: 53.5 KB\n"
     ]
    }
   ],
   "source": [
    "#chck for nulls or NaN\n",
    "df_bC.info()"
   ]
  },
  {
   "cell_type": "code",
   "execution_count": 18,
   "metadata": {},
   "outputs": [],
   "source": [
    "X_train, X_test, y_train, y_test = train_test_split(df_bC.drop(['Class'], axis = 1), df_bC['Class'], train_size = 0.75)"
   ]
  },
  {
   "cell_type": "code",
   "execution_count": 19,
   "metadata": {},
   "outputs": [],
   "source": [
    "kNN = KNeighborsClassifier(n_neighbors=9)"
   ]
  },
  {
   "cell_type": "code",
   "execution_count": 20,
   "metadata": {},
   "outputs": [
    {
     "data": {
      "text/plain": [
       "KNeighborsClassifier(algorithm='auto', leaf_size=30, metric='minkowski',\n",
       "                     metric_params=None, n_jobs=None, n_neighbors=9, p=2,\n",
       "                     weights='uniform')"
      ]
     },
     "execution_count": 20,
     "metadata": {},
     "output_type": "execute_result"
    }
   ],
   "source": [
    "kNN.fit(X_train, y_train)"
   ]
  },
  {
   "cell_type": "code",
   "execution_count": 21,
   "metadata": {},
   "outputs": [],
   "source": [
    "predict = kNN.predict(X_test)"
   ]
  },
  {
   "cell_type": "code",
   "execution_count": 22,
   "metadata": {},
   "outputs": [
    {
     "data": {
      "text/plain": [
       "(171,)"
      ]
     },
     "execution_count": 22,
     "metadata": {},
     "output_type": "execute_result"
    }
   ],
   "source": [
    "predict.shape"
   ]
  },
  {
   "cell_type": "code",
   "execution_count": 23,
   "metadata": {},
   "outputs": [
    {
     "data": {
      "text/plain": [
       "(171,)"
      ]
     },
     "execution_count": 23,
     "metadata": {},
     "output_type": "execute_result"
    }
   ],
   "source": [
    "y_test.shape"
   ]
  },
  {
   "cell_type": "code",
   "execution_count": 24,
   "metadata": {},
   "outputs": [],
   "source": [
    "from sklearn.metrics import accuracy_score"
   ]
  },
  {
   "cell_type": "code",
   "execution_count": 25,
   "metadata": {},
   "outputs": [
    {
     "data": {
      "text/plain": [
       "0.9766081871345029"
      ]
     },
     "execution_count": 25,
     "metadata": {},
     "output_type": "execute_result"
    }
   ],
   "source": [
    "acc_knn_9 = accuracy_score(y_test, predict)\n",
    "acc_knn_9"
   ]
  },
  {
   "cell_type": "code",
   "execution_count": 26,
   "metadata": {},
   "outputs": [
    {
     "data": {
      "text/plain": [
       "0.9766081871345029"
      ]
     },
     "execution_count": 26,
     "metadata": {},
     "output_type": "execute_result"
    }
   ],
   "source": [
    "acc_9 = kNN.score(X_test, y_test)\n",
    "acc_9"
   ]
  },
  {
   "cell_type": "code",
   "execution_count": null,
   "metadata": {},
   "outputs": [],
   "source": []
  },
  {
   "cell_type": "markdown",
   "metadata": {},
   "source": [
    "## Decision Tree"
   ]
  },
  {
   "cell_type": "code",
   "execution_count": 27,
   "metadata": {},
   "outputs": [],
   "source": [
    "from sklearn.tree import DecisionTreeClassifier\n",
    "from sklearn import metrics"
   ]
  },
  {
   "cell_type": "code",
   "execution_count": 28,
   "metadata": {},
   "outputs": [
    {
     "data": {
      "text/plain": [
       "Index(['Clump Thickness', 'Uniformity of Cell Size',\n",
       "       'Uniformity of Cell Shape', 'Marginal Adhesion',\n",
       "       'Single Epithelial Cell Size', 'Bare Nuclei', 'Bland Chromatin',\n",
       "       'Normal Nucleoli', 'Mitoses', 'Class'],\n",
       "      dtype='object')"
      ]
     },
     "execution_count": 28,
     "metadata": {},
     "output_type": "execute_result"
    }
   ],
   "source": [
    "df_bC.columns"
   ]
  },
  {
   "cell_type": "code",
   "execution_count": 29,
   "metadata": {},
   "outputs": [],
   "source": [
    "#Feature selection\n",
    "\n",
    "feature_cols = ['Clump Thickness','Uniformity of Cell Size','Uniformity of Cell Shape','Marginal Adhesion',\n",
    "                'Single Epithelial Cell Size','Bare Nuclei','Bland Chromatin','Normal Nucleoli','Mitoses']\n"
   ]
  },
  {
   "cell_type": "code",
   "execution_count": 30,
   "metadata": {},
   "outputs": [],
   "source": [
    "X = df_bC[feature_cols]\n",
    "y = df_bC['Class']"
   ]
  },
  {
   "cell_type": "code",
   "execution_count": 31,
   "metadata": {},
   "outputs": [],
   "source": [
    "X_train_dec, X_test_dec, y_train_dec, y_test_dec = train_test_split(X, y, \n",
    "                            test_size=0.3, random_state=1)"
   ]
  },
  {
   "cell_type": "code",
   "execution_count": 32,
   "metadata": {},
   "outputs": [],
   "source": [
    "clf = DecisionTreeClassifier()"
   ]
  },
  {
   "cell_type": "code",
   "execution_count": 33,
   "metadata": {},
   "outputs": [],
   "source": [
    "clf = clf.fit(X_train_dec, y_train_dec)"
   ]
  },
  {
   "cell_type": "code",
   "execution_count": 34,
   "metadata": {},
   "outputs": [],
   "source": [
    "dec_tree_pred = clf.predict(X_test_dec)"
   ]
  },
  {
   "cell_type": "code",
   "execution_count": 35,
   "metadata": {},
   "outputs": [
    {
     "data": {
      "text/plain": [
       "0.9707317073170731"
      ]
     },
     "execution_count": 35,
     "metadata": {},
     "output_type": "execute_result"
    }
   ],
   "source": [
    "acc_dec_tree = metrics.accuracy_score(y_test_dec, dec_tree_pred)\n",
    "acc_dec_tree"
   ]
  },
  {
   "cell_type": "code",
   "execution_count": null,
   "metadata": {},
   "outputs": [],
   "source": []
  }
 ],
 "metadata": {
  "kernelspec": {
   "display_name": "Python 3",
   "language": "python",
   "name": "python3"
  },
  "language_info": {
   "codemirror_mode": {
    "name": "ipython",
    "version": 3
   },
   "file_extension": ".py",
   "mimetype": "text/x-python",
   "name": "python",
   "nbconvert_exporter": "python",
   "pygments_lexer": "ipython3",
   "version": "3.7.4"
  }
 },
 "nbformat": 4,
 "nbformat_minor": 2
}
